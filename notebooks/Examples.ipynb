{
 "cells": [
  {
   "cell_type": "code",
   "execution_count": 1,
   "metadata": {},
   "outputs": [],
   "source": [
    "%load_ext autoreload\n",
    "%autoreload 2\n",
    "%matplotlib inline"
   ]
  },
  {
   "cell_type": "code",
   "execution_count": 5,
   "metadata": {},
   "outputs": [
    {
     "name": "stdout",
     "output_type": "stream",
     "text": [
      "terminating: NljKVZvFR0qte9_YCgyxJw\n",
      "self.tilesets: [<higlass.tilesets.Tileset object at 0x10d4a3f98>]\n",
      " * Serving Flask app \"higlass.server\" (lazy loading)\n",
      " * Environment: production\n",
      "   WARNING: Do not use the development server in a production environment.\n",
      "   Use a production WSGI server instead.\n",
      " * Debug mode: on\n"
     ]
    },
    {
     "data": {
      "application/vnd.jupyter.widget-view+json": {
       "model_id": "3121e9c50de0444983699bbd27786326",
       "version_major": 2,
       "version_minor": 0
      },
      "text/plain": [
       "HiGlassDisplay(viewconf={'editable': True, 'views': [{'uid': 'WGbe-4iVRUeuN2S_NwlhuA', 'tracks': {'top': [{'ty…"
      ]
     },
     "metadata": {},
     "output_type": "display_data"
    }
   ],
   "source": [
    "import higlass\n",
    "import higlass.client as hgc\n",
    "import higlass.tilesets as hti\n",
    "\n",
    "ts1 = hti.cooler('../data/Dixon2012-J1-NcoI-R1-filtered.100kb.multires.cool')\n",
    "\n",
    "tr1 = hgc.Track('top-axis')\n",
    "tr2 = hgc.Track('heatmap', tileset=ts1, height=100)\n",
    "higlass.display([hgc.View([tr1, tr2])])()"
   ]
  },
  {
   "cell_type": "code",
   "execution_count": 15,
   "metadata": {},
   "outputs": [
    {
     "name": "stdout",
     "output_type": "stream",
     "text": [
      "attrs: ['max-zoom', 'min-pos', 'max-pos']\n",
      "terminating: Z7dx4y0TRxWRcKgGk9JGiw\n",
      "self.tilesets: [<higlass.tilesets.Tileset object at 0x10d4a31d0>]\n",
      " * Serving Flask app \"higlass.server\" (lazy loading)\n",
      " * Environment: production\n",
      "   WARNING: Do not use the development server in a production environment.\n",
      "   Use a production WSGI server instead.\n",
      " * Debug mode: on\n"
     ]
    },
    {
     "data": {
      "application/vnd.jupyter.widget-view+json": {
       "model_id": "faaeb2a7f684497f8375a3cfa1b998ec",
       "version_major": 2,
       "version_minor": 0
      },
      "text/plain": [
       "HiGlassDisplay(viewconf={'editable': True, 'views': [{'uid': 'HZ8RP_XgQs-cLkHnDzgH7w', 'tracks': {'top': [{'ty…"
      ]
     },
     "metadata": {},
     "output_type": "display_data"
    },
    {
     "name": "stdout",
     "output_type": "stream",
     "text": [
      "attrs: ['max-zoom', 'min-pos', 'max-pos']\n",
      "attrs: ['max-zoom', 'min-pos', 'max-pos']\n",
      "attrs: ['max-zoom', 'min-pos', 'max-pos']\n",
      "attrs: ['max-zoom', 'min-pos', 'max-pos']\n",
      "attrs: ['max-zoom', 'min-pos', 'max-pos']\n",
      "attrs: ['max-zoom', 'min-pos', 'max-pos']\n",
      "attrs: ['max-zoom', 'min-pos', 'max-pos']\n",
      "attrs: ['max-zoom', 'min-pos', 'max-pos']\n",
      "attrs: ['max-zoom', 'min-pos', 'max-pos']\n",
      "attrs: ['max-zoom', 'min-pos', 'max-pos']\n",
      "attrs: ['max-zoom', 'min-pos', 'max-pos']\n",
      "attrs: ['max-zoom', 'min-pos', 'max-pos']\n",
      "attrs: ['max-zoom', 'min-pos', 'max-pos']\n",
      "attrs: ['max-zoom', 'min-pos', 'max-pos']\n",
      "attrs: ['max-zoom', 'min-pos', 'max-pos']\n",
      "attrs: ['max-zoom', 'min-pos', 'max-pos']\n",
      "attrs: ['max-zoom', 'min-pos', 'max-pos']\n",
      "attrs: ['max-zoom', 'min-pos', 'max-pos']\n",
      "attrs: ['max-zoom', 'min-pos', 'max-pos']\n",
      "attrs: ['max-zoom', 'min-pos', 'max-pos']\n",
      "attrs: ['max-zoom', 'min-pos', 'max-pos']\n",
      "attrs: ['max-zoom', 'min-pos', 'max-pos']\n",
      "attrs: ['max-zoom', 'min-pos', 'max-pos']\n",
      "attrs: ['max-zoom', 'min-pos', 'max-pos']\n",
      "attrs: ['max-zoom', 'min-pos', 'max-pos']\n",
      "attrs: ['max-zoom', 'min-pos', 'max-pos']\n",
      "attrs: ['max-zoom', 'min-pos', 'max-pos']\n",
      "attrs: ['max-zoom', 'min-pos', 'max-pos']\n",
      "attrs: ['max-zoom', 'min-pos', 'max-pos']\n",
      "attrs: ['max-zoom', 'min-pos', 'max-pos']\n",
      "attrs: ['max-zoom', 'min-pos', 'max-pos']\n",
      "attrs: ['max-zoom', 'min-pos', 'max-pos']\n",
      "attrs: ['max-zoom', 'min-pos', 'max-pos']\n",
      "attrs: ['max-zoom', 'min-pos', 'max-pos']\n",
      "attrs: ['max-zoom', 'min-pos', 'max-pos']\n",
      "attrs: ['max-zoom', 'min-pos', 'max-pos']\n",
      "attrs: ['max-zoom', 'min-pos', 'max-pos']\n"
     ]
    }
   ],
   "source": [
    "import h5py\n",
    "import clodius.tiles.mrmatrix as hgmm\n",
    "import clodius.tiles.format as hgfo\n",
    "import clodius.tiles.utils as hgut\n",
    "import higlass.tilesets as hfti\n",
    "\n",
    "f = h5py.File('../data/int_matrices.hdf5', 'r')\n",
    "t = hgmm.tiles(f, 0, 0, 0)\n",
    "\n",
    "ts = hfti.Tileset(\n",
    "    tileset_info=lambda: hgmm.tileset_info(f),\n",
    "    tiles=lambda tile_ids: hgut.tiles_wrapper_2d(tile_ids,\n",
    "                    lambda z,x,y: hgfo.format_dense_tile(\n",
    "                        hgmm.tiles(f, z, x, y)))\n",
    "    )\n",
    "\n",
    "tr1 = hgc.Track('top-axis')\n",
    "tr2 = hgc.Track('heatmap', tileset=ts, height=200)\n",
    "higlass.display([hgc.View([tr1, tr2])])()"
   ]
  },
  {
   "cell_type": "code",
   "execution_count": null,
   "metadata": {},
   "outputs": [],
   "source": []
  }
 ],
 "metadata": {
  "kernelspec": {
   "display_name": "Python 3",
   "language": "python",
   "name": "python3"
  },
  "language_info": {
   "codemirror_mode": {
    "name": "ipython",
    "version": 3
   },
   "file_extension": ".py",
   "mimetype": "text/x-python",
   "name": "python",
   "nbconvert_exporter": "python",
   "pygments_lexer": "ipython3",
   "version": "3.6.2"
  }
 },
 "nbformat": 4,
 "nbformat_minor": 2
}
