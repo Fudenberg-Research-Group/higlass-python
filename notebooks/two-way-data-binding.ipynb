{
 "cells": [
  {
   "cell_type": "markdown",
   "metadata": {},
   "source": [
    "# Two-way data bindings\n",
    "\n",
    "This example shows how to dynamically get, set, and observe changes to HiGlass properties"
   ]
  },
  {
   "cell_type": "code",
   "execution_count": 1,
   "metadata": {},
   "outputs": [],
   "source": [
    "import higlass as hg\n",
    "import ipywidgets as widgets\n",
    "from IPython.display import display"
   ]
  },
  {
   "cell_type": "markdown",
   "metadata": {},
   "source": [
    "Let's use a simple 1D view for demonstration purposes"
   ]
  },
  {
   "cell_type": "code",
   "execution_count": 2,
   "metadata": {},
   "outputs": [],
   "source": [
    "viewconf = hg.ViewConf.from_link('http://higlass.io/app/?config=browserlike')\n",
    "widget = hg.viewer.HiGlassDisplay(viewconf=viewconf.to_dict())"
   ]
  },
  {
   "cell_type": "markdown",
   "metadata": {},
   "source": [
    "In the following we're going to create 4 widgets for displaying the current location and selection of the HiGlass view. We're also going to synchronize a button with the select mode to have a simple UI for switching between panning&zooming and brush selections."
   ]
  },
  {
   "cell_type": "code",
   "execution_count": 3,
   "metadata": {},
   "outputs": [
    {
     "data": {
      "application/vnd.jupyter.widget-view+json": {
       "model_id": "83350bde785a4eedbe5f3050b96cd410",
       "version_major": 2,
       "version_minor": 0
      },
      "text/plain": [
       "IntText(value=0, description='Loc. From:', disabled=True)"
      ]
     },
     "metadata": {},
     "output_type": "display_data"
    },
    {
     "data": {
      "application/vnd.jupyter.widget-view+json": {
       "model_id": "00af07e8444642f992115c611fe472d9",
       "version_major": 2,
       "version_minor": 0
      },
      "text/plain": [
       "IntText(value=0, description='Loc. To:', disabled=True)"
      ]
     },
     "metadata": {},
     "output_type": "display_data"
    },
    {
     "data": {
      "application/vnd.jupyter.widget-view+json": {
       "model_id": "e4bcc653956d4b78858bc580c7215c7a",
       "version_major": 2,
       "version_minor": 0
      },
      "text/plain": [
       "HiGlassDisplay(viewconf={'editable': True, 'views': [{'uid': 'aa', 'tracks': {'top': [{'type': 'horizontal-chr…"
      ]
     },
     "metadata": {},
     "output_type": "display_data"
    },
    {
     "data": {
      "application/vnd.jupyter.widget-view+json": {
       "model_id": "d532501a14fd4b05a59d71a5927ad81d",
       "version_major": 2,
       "version_minor": 0
      },
      "text/plain": [
       "IntText(value=0, description='Sel. From:', disabled=True)"
      ]
     },
     "metadata": {},
     "output_type": "display_data"
    },
    {
     "data": {
      "application/vnd.jupyter.widget-view+json": {
       "model_id": "11abd58a7ea242089749236bb047f5e8",
       "version_major": 2,
       "version_minor": 0
      },
      "text/plain": [
       "IntText(value=0, description='Sel. To:', disabled=True)"
      ]
     },
     "metadata": {},
     "output_type": "display_data"
    },
    {
     "data": {
      "application/vnd.jupyter.widget-view+json": {
       "model_id": "5bfcec6fd9524deea2da9777982c4c7f",
       "version_major": 2,
       "version_minor": 0
      },
      "text/plain": [
       "ToggleButton(value=False, description='Select Mode')"
      ]
     },
     "metadata": {},
     "output_type": "display_data"
    }
   ],
   "source": [
    "loc_from = widgets.IntText(value=None, description='Loc. From:', disabled=True)\n",
    "loc_to = widgets.IntText(value=None, description='Loc. To:', disabled=True)\n",
    "\n",
    "def handle_location_change(location):\n",
    "    loc_from.value = location.new[0]\n",
    "    loc_to.value = location.new[1]\n",
    "    \n",
    "widget.observe(handle_location_change, names=['location'])\n",
    "\n",
    "\n",
    "sel_from = widgets.IntText(value=None, description='Sel. From:', disabled=True)\n",
    "sel_to = widgets.IntText(value=None, description='Sel. To:', disabled=True)\n",
    "\n",
    "def handle_selection_change(selection):\n",
    "    sel_from.value = selection.new[0]\n",
    "    sel_to.value = selection.new[1]\n",
    "    \n",
    "widget.observe(handle_selection_change, names=['selection'])\n",
    "\n",
    "\n",
    "select_mode = widgets.ToggleButton(value=False, description='Select Mode')\n",
    "widgets.jslink((widget, 'select_mode'), (select_mode, 'value'))\n",
    "\n",
    "display(loc_from, loc_to, widget, sel_from, sel_to, select_mode)"
   ]
  },
  {
   "cell_type": "markdown",
   "metadata": {},
   "source": [
    "You can also read out the values directly of course. The location data is a quadruple of form:\n",
    "\n",
    "`[x_from, x_to, y_from, y_to]`"
   ]
  },
  {
   "cell_type": "code",
   "execution_count": 4,
   "metadata": {},
   "outputs": [
    {
     "data": {
      "text/plain": [
       "[2540006654.2580953, 2542097931.975232, 2541741549.927476, 2541788662.5669107]"
      ]
     },
     "execution_count": 4,
     "metadata": {},
     "output_type": "execute_result"
    }
   ],
   "source": [
    "widget.location"
   ]
  },
  {
   "cell_type": "code",
   "execution_count": 5,
   "metadata": {},
   "outputs": [
    {
     "data": {
      "application/vnd.jupyter.widget-view+json": {
       "model_id": "bfd4c721f2034b9bb061b70fed8355b6",
       "version_major": 2,
       "version_minor": 0
      },
      "text/plain": [
       "HiGlassDisplay(viewconf={'editable': True, 'views': [{'uid': 'aa', 'tracks': {'top': [{'type': 'horizontal-gen…"
      ]
     },
     "metadata": {},
     "output_type": "display_data"
    }
   ],
   "source": [
    "viewconf_twoviews = hg.ViewConf.from_link('http://higlass.io/app/?config=twoviews')\n",
    "twoviews = hg.viewer.HiGlassDisplay(viewconf=viewconf_twoviews.to_dict())\n",
    "twoviews"
   ]
  },
  {
   "cell_type": "markdown",
   "metadata": {},
   "source": [
    "Since we have two views now the location property will be a nested list of 2 quadruples holding the 2D location for both views."
   ]
  },
  {
   "cell_type": "code",
   "execution_count": 6,
   "metadata": {},
   "outputs": [
    {
     "data": {
      "text/plain": [
       "[[1500178314.4281063,\n",
       "  1502127179.5718937,\n",
       "  1499936530.1728926,\n",
       "  1502349410.8271055],\n",
       " [1500187594.7383053,\n",
       "  1502117899.2616947,\n",
       "  1500180911.6750407,\n",
       "  1502105029.3249576]]"
      ]
     },
     "execution_count": 6,
     "metadata": {},
     "output_type": "execute_result"
    }
   ],
   "source": [
    "twoviews.location"
   ]
  },
  {
   "cell_type": "markdown",
   "metadata": {},
   "source": [
    "If you need full access to HiGlass' JavaScript API please grab the ID of the dom element of the widget's API you need as follows:"
   ]
  },
  {
   "cell_type": "code",
   "execution_count": 7,
   "metadata": {},
   "outputs": [
    {
     "data": {
      "text/plain": [
       "'l32zq5'"
      ]
     },
     "execution_count": 7,
     "metadata": {},
     "output_type": "execute_result"
    }
   ],
   "source": [
    "twoviews.dom_element_id"
   ]
  },
  {
   "cell_type": "markdown",
   "metadata": {},
   "source": [
    "You can then use this API for any kind of call that are supported by the JavaScript API (https://docs.higlass.io/javascript_api.html)\n",
    "\n",
    "Make sure you copy the ID from the previous cell's output into the cell below."
   ]
  },
  {
   "cell_type": "code",
   "execution_count": 8,
   "metadata": {},
   "outputs": [
    {
     "data": {
      "application/javascript": [
       "\n",
       "const hgApi = document.getElementById('l32zq5').api;\n",
       "hgApi.zoomTo('aa', 1000000, 1100000, 2000000, 2100000, 500);\n"
      ],
      "text/plain": [
       "<IPython.core.display.Javascript object>"
      ]
     },
     "metadata": {},
     "output_type": "display_data"
    }
   ],
   "source": [
    "%%javascript\n",
    "\n",
    "const hgApi = document.getElementById('l32zq5').api;\n",
    "hgApi.zoomTo('aa', 1000000, 1100000, 2000000, 2100000, 500);"
   ]
  },
  {
   "cell_type": "markdown",
   "metadata": {},
   "source": [
    "Except for `location`, `cursor_location`, and `selection`, which are _read only_, you can also set properties and the related HiGlass widget will update. E.g., let's turn on brush selection when the _ALT_ key is pressed."
   ]
  },
  {
   "cell_type": "code",
   "execution_count": 9,
   "metadata": {},
   "outputs": [],
   "source": [
    "widget.selection_on_alt = True"
   ]
  },
  {
   "cell_type": "markdown",
   "metadata": {},
   "source": [
    "Now, scroll back up, press the _ALT_ key, and brush on the track. You should see how the selection gets updated."
   ]
  },
  {
   "cell_type": "code",
   "execution_count": null,
   "metadata": {},
   "outputs": [],
   "source": []
  }
 ],
 "metadata": {
  "kernelspec": {
   "display_name": "Python 3",
   "language": "python",
   "name": "python3"
  },
  "language_info": {
   "codemirror_mode": {
    "name": "ipython",
    "version": 3
   },
   "file_extension": ".py",
   "mimetype": "text/x-python",
   "name": "python",
   "nbconvert_exporter": "python",
   "pygments_lexer": "ipython3",
   "version": "3.7.2"
  }
 },
 "nbformat": 4,
 "nbformat_minor": 4
}
