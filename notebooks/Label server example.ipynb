{
 "cells": [
  {
   "cell_type": "code",
   "execution_count": 1,
   "metadata": {},
   "outputs": [],
   "source": [
    "%load_ext autoreload\n",
    "%autoreload 2\n",
    "%matplotlib inline"
   ]
  },
  {
   "cell_type": "code",
   "execution_count": 2,
   "metadata": {},
   "outputs": [
    {
     "name": "stdout",
     "output_type": "stream",
     "text": [
      "CPU times: user 822 ms, sys: 4.18 ms, total: 826 ms\n",
      "Wall time: 825 ms\n"
     ]
    }
   ],
   "source": [
    "%%time \n",
    "\n",
    "from num2words import num2words\n",
    "import numpy as np\n",
    "\n",
    "a = np.array([num2words(i) for i in range(2 ** 14)])\n",
    "importances = np.random.random((len(a),))"
   ]
  },
  {
   "cell_type": "code",
   "execution_count": 3,
   "metadata": {},
   "outputs": [
    {
     "name": "stdout",
     "output_type": "stream",
     "text": [
      "<U50\n"
     ]
    }
   ],
   "source": [
    "print(a.dtype)\n",
    "a_bytes = a.astype('S')"
   ]
  },
  {
   "cell_type": "code",
   "execution_count": 4,
   "metadata": {},
   "outputs": [
    {
     "data": {
      "text/plain": [
       "{'max_width': 16384,\n",
       " 'min_pos': [0],\n",
       " 'max_pos': [16384],\n",
       " 'max_zoom': 10,\n",
       " 'bins_per_dimension': 16}"
      ]
     },
     "execution_count": 4,
     "metadata": {},
     "output_type": "execute_result"
    }
   ],
   "source": [
    "from clodius.tiles import npvector\n",
    "from clodius.tiles import nplabels\n",
    "\n",
    "npvector.tileset_info(a, bins_per_dimension=16)"
   ]
  },
  {
   "cell_type": "code",
   "execution_count": 5,
   "metadata": {},
   "outputs": [
    {
     "data": {
      "text/plain": [
       "[{'x': 0, 'label': 'zero', 'importance': 0.9402949239479711},\n",
       " {'x': 13, 'label': 'thirteen', 'importance': 0.8525288810514992},\n",
       " {'x': 6, 'label': 'six', 'importance': 0.7908298438637438},\n",
       " {'x': 8, 'label': 'eight', 'importance': 0.6757066034435739},\n",
       " {'x': 15, 'label': 'fifteen', 'importance': 0.5569475898725876},\n",
       " {'x': 11, 'label': 'eleven', 'importance': 0.4690168054330722},\n",
       " {'x': 3, 'label': 'three', 'importance': 0.4561540186191917},\n",
       " {'x': 14, 'label': 'fourteen', 'importance': 0.42884509162510087},\n",
       " {'x': 5, 'label': 'five', 'importance': 0.4068784607912449},\n",
       " {'x': 2, 'label': 'two', 'importance': 0.3931756653534094},\n",
       " {'x': 4, 'label': 'four', 'importance': 0.3291374734182919},\n",
       " {'x': 1, 'label': 'one', 'importance': 0.19805506379301674},\n",
       " {'x': 10, 'label': 'ten', 'importance': 0.10067901001080526},\n",
       " {'x': 7, 'label': 'seven', 'importance': 0.08747785035305422},\n",
       " {'x': 9, 'label': 'nine', 'importance': 0.011309277511052263},\n",
       " {'x': 12, 'label': 'twelve', 'importance': 0.0010126922318701714}]"
      ]
     },
     "execution_count": 5,
     "metadata": {},
     "output_type": "execute_result"
    }
   ],
   "source": [
    "nplabels.tiles(a, 10, 0, list(importances))"
   ]
  },
  {
   "cell_type": "code",
   "execution_count": 6,
   "metadata": {},
   "outputs": [
    {
     "data": {
      "text/plain": [
       "[{'x': 0, 'label': 'zero', 'importance': 0.9402949239479711},\n",
       " {'x': 13, 'label': 'thirteen', 'importance': 0.8525288810514992},\n",
       " {'x': 6, 'label': 'six', 'importance': 0.7908298438637438},\n",
       " {'x': 8, 'label': 'eight', 'importance': 0.6757066034435739},\n",
       " {'x': 15, 'label': 'fifteen', 'importance': 0.5569475898725876},\n",
       " {'x': 11, 'label': 'eleven', 'importance': 0.4690168054330722},\n",
       " {'x': 3, 'label': 'three', 'importance': 0.4561540186191917},\n",
       " {'x': 14, 'label': 'fourteen', 'importance': 0.42884509162510087},\n",
       " {'x': 5, 'label': 'five', 'importance': 0.4068784607912449},\n",
       " {'x': 2, 'label': 'two', 'importance': 0.3931756653534094},\n",
       " {'x': 4, 'label': 'four', 'importance': 0.3291374734182919},\n",
       " {'x': 1, 'label': 'one', 'importance': 0.19805506379301674},\n",
       " {'x': 10, 'label': 'ten', 'importance': 0.10067901001080526},\n",
       " {'x': 7, 'label': 'seven', 'importance': 0.08747785035305422},\n",
       " {'x': 9, 'label': 'nine', 'importance': 0.011309277511052263},\n",
       " {'x': 12, 'label': 'twelve', 'importance': 0.0010126922318701714}]"
      ]
     },
     "execution_count": 6,
     "metadata": {},
     "output_type": "execute_result"
    }
   ],
   "source": [
    "nplabels.tiles(a_bytes, 10, 0, list(importances))"
   ]
  },
  {
   "cell_type": "code",
   "execution_count": 7,
   "metadata": {},
   "outputs": [
    {
     "data": {
      "text/plain": [
       "[('a.0.0',\n",
       "  [{'x': 4364,\n",
       "    'label': 'four thousand, three hundred and sixty-four',\n",
       "    'importance': 0.9999602442984582},\n",
       "   {'x': 10609,\n",
       "    'label': 'ten thousand, six hundred and nine',\n",
       "    'importance': 0.9999002112208502},\n",
       "   {'x': 4875,\n",
       "    'label': 'four thousand, eight hundred and seventy-five',\n",
       "    'importance': 0.999856088568805},\n",
       "   {'x': 1597,\n",
       "    'label': 'one thousand, five hundred and ninety-seven',\n",
       "    'importance': 0.9997820141726502},\n",
       "   {'x': 8735,\n",
       "    'label': 'eight thousand, seven hundred and thirty-five',\n",
       "    'importance': 0.9997050346806389},\n",
       "   {'x': 13288,\n",
       "    'label': 'thirteen thousand, two hundred and eighty-eight',\n",
       "    'importance': 0.9996633186953336},\n",
       "   {'x': 1924,\n",
       "    'label': 'one thousand, nine hundred and twenty-four',\n",
       "    'importance': 0.9995397455621177},\n",
       "   {'x': 10708,\n",
       "    'label': 'ten thousand, seven hundred and eight',\n",
       "    'importance': 0.9995379220967621},\n",
       "   {'x': 16134,\n",
       "    'label': 'sixteen thousand, one hundred and thirty-four',\n",
       "    'importance': 0.9995182428077176},\n",
       "   {'x': 3868,\n",
       "    'label': 'three thousand, eight hundred and sixty-eight',\n",
       "    'importance': 0.9994900828372273},\n",
       "   {'x': 9264,\n",
       "    'label': 'nine thousand, two hundred and sixty-four',\n",
       "    'importance': 0.9994876466532687},\n",
       "   {'x': 7676,\n",
       "    'label': 'seven thousand, six hundred and seventy-six',\n",
       "    'importance': 0.9993877177407839},\n",
       "   {'x': 2742,\n",
       "    'label': 'two thousand, seven hundred and forty-two',\n",
       "    'importance': 0.9992643690071991},\n",
       "   {'x': 15954,\n",
       "    'label': 'fifteen thousand, nine hundred and fifty-four',\n",
       "    'importance': 0.9991951637890311},\n",
       "   {'x': 13442,\n",
       "    'label': 'thirteen thousand, four hundred and forty-two',\n",
       "    'importance': 0.999135596927387},\n",
       "   {'x': 7487,\n",
       "    'label': 'seven thousand, four hundred and eighty-seven',\n",
       "    'importance': 0.9991306953466824}])]"
      ]
     },
     "execution_count": 7,
     "metadata": {},
     "output_type": "execute_result"
    }
   ],
   "source": [
    "nplabels.tiles_wrapper(a, [\"a.0.0\"], importances)"
   ]
  },
  {
   "cell_type": "code",
   "execution_count": 8,
   "metadata": {},
   "outputs": [
    {
     "name": "stdout",
     "output_type": "stream",
     "text": [
      "self.diskcache_directory /tmp/hgflask/dc True\n",
      "starting fuse\n",
      "starting fuse\n",
      " * Serving Flask app \"higlass.server\" (lazy loading)\n",
      " * Environment: production\n",
      "   WARNING: This is a development server. Do not use it in a production deployment.\n",
      "   Use a production WSGI server instead.\n",
      " * Debug mode: on\n"
     ]
    }
   ],
   "source": [
    "from higlass.server import Server\n",
    "from higlass.tilesets import Tileset\n",
    "ts = Tileset(\n",
    "    uuid='a',\n",
    "    tileset_info=lambda: npvector.tileset_info(a, bins_per_dimension=16),\n",
    "    tiles=lambda tids: nplabels.tiles_wrapper(a, tids, importances)\n",
    ")\n",
    "\n",
    "server = Server([ts], port=58720)\n",
    "server.start()"
   ]
  },
  {
   "cell_type": "code",
   "execution_count": 9,
   "metadata": {},
   "outputs": [
    {
     "name": "stdout",
     "output_type": "stream",
     "text": [
      "url: http://localhost:58720/api/v1/tiles/?d=a.1.0\n"
     ]
    },
    {
     "data": {
      "text/plain": [
       "[{'importance': 0.9999602442984582,\n",
       "  'label': 'four thousand, three hundred and sixty-four',\n",
       "  'x': 4364},\n",
       " {'importance': 0.999856088568805,\n",
       "  'label': 'four thousand, eight hundred and seventy-five',\n",
       "  'x': 4875},\n",
       " {'importance': 0.9997820141726502,\n",
       "  'label': 'one thousand, five hundred and ninety-seven',\n",
       "  'x': 1597},\n",
       " {'importance': 0.9995397455621177,\n",
       "  'label': 'one thousand, nine hundred and twenty-four',\n",
       "  'x': 1924},\n",
       " {'importance': 0.9994900828372273,\n",
       "  'label': 'three thousand, eight hundred and sixty-eight',\n",
       "  'x': 3868},\n",
       " {'importance': 0.9993877177407839,\n",
       "  'label': 'seven thousand, six hundred and seventy-six',\n",
       "  'x': 7676},\n",
       " {'importance': 0.9992643690071991,\n",
       "  'label': 'two thousand, seven hundred and forty-two',\n",
       "  'x': 2742},\n",
       " {'importance': 0.9991306953466824,\n",
       "  'label': 'seven thousand, four hundred and eighty-seven',\n",
       "  'x': 7487},\n",
       " {'importance': 0.9990533640603867,\n",
       "  'label': 'four thousand, nine hundred and ninety-six',\n",
       "  'x': 4996},\n",
       " {'importance': 0.9989821384686451,\n",
       "  'label': 'six thousand, six hundred and fifty-one',\n",
       "  'x': 6651},\n",
       " {'importance': 0.9987711273335199,\n",
       "  'label': 'six thousand, five hundred and two',\n",
       "  'x': 6502},\n",
       " {'importance': 0.9986833250611453,\n",
       "  'label': 'two thousand, five hundred and ninety',\n",
       "  'x': 2590},\n",
       " {'importance': 0.9985564351619076,\n",
       "  'label': 'five thousand, five hundred and fourteen',\n",
       "  'x': 5514},\n",
       " {'importance': 0.9984034841374353,\n",
       "  'label': 'eight thousand and thirty-one',\n",
       "  'x': 8031},\n",
       " {'importance': 0.998290843256872,\n",
       "  'label': 'four thousand, five hundred and two',\n",
       "  'x': 4502},\n",
       " {'importance': 0.998252761434783,\n",
       "  'label': 'two thousand, five hundred and thirty-six',\n",
       "  'x': 2536}]"
      ]
     },
     "execution_count": 9,
     "metadata": {},
     "output_type": "execute_result"
    }
   ],
   "source": [
    "server.tiles(ts.uuid, 1, 0)"
   ]
  },
  {
   "cell_type": "code",
   "execution_count": null,
   "metadata": {},
   "outputs": [],
   "source": []
  }
 ],
 "metadata": {
  "kernelspec": {
   "display_name": "Python 3",
   "language": "python",
   "name": "python3"
  },
  "language_info": {
   "codemirror_mode": {
    "name": "ipython",
    "version": 3
   },
   "file_extension": ".py",
   "mimetype": "text/x-python",
   "name": "python",
   "nbconvert_exporter": "python",
   "pygments_lexer": "ipython3",
   "version": "3.7.3"
  }
 },
 "nbformat": 4,
 "nbformat_minor": 2
}
