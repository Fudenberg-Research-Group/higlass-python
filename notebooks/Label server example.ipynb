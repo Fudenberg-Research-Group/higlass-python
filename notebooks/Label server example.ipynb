{
 "cells": [
  {
   "cell_type": "code",
   "execution_count": 17,
   "metadata": {},
   "outputs": [
    {
     "name": "stdout",
     "output_type": "stream",
     "text": [
      "The autoreload extension is already loaded. To reload it, use:\n",
      "  %reload_ext autoreload\n"
     ]
    }
   ],
   "source": [
    "%load_ext autoreload\n",
    "%autoreload 2\n",
    "%matplotlib inline"
   ]
  },
  {
   "cell_type": "code",
   "execution_count": 140,
   "metadata": {},
   "outputs": [
    {
     "name": "stdout",
     "output_type": "stream",
     "text": [
      "CPU times: user 1.62 s, sys: 45.6 ms, total: 1.66 s\n",
      "Wall time: 1.78 s\n"
     ]
    }
   ],
   "source": [
    "%%time \n",
    "\n",
    "from num2words import num2words\n",
    "import numpy as np\n",
    "\n",
    "a = np.array([num2words(i) for i in range(2 ** 14)])\n",
    "importances = np.random.random((len(a),))"
   ]
  },
  {
   "cell_type": "code",
   "execution_count": 141,
   "metadata": {},
   "outputs": [
    {
     "data": {
      "text/plain": [
       "{'max_width': 16384,\n",
       " 'min_pos': [0],\n",
       " 'max_pos': [16384],\n",
       " 'max_zoom': 10,\n",
       " 'bins_per_dimension': 16}"
      ]
     },
     "execution_count": 141,
     "metadata": {},
     "output_type": "execute_result"
    }
   ],
   "source": [
    "import clodius.tiles.npvector as ctn\n",
    "import clodius.tiles.nplabels as ctnl\n",
    "\n",
    "ctn.tileset_info(a, bins_per_dimension=16)"
   ]
  },
  {
   "cell_type": "code",
   "execution_count": 142,
   "metadata": {},
   "outputs": [
    {
     "data": {
      "text/plain": [
       "[{'x': 14, 'label': 'fourteen', 'importance': 0.9821202119567198},\n",
       " {'x': 15, 'label': 'fifteen', 'importance': 0.854609260461525},\n",
       " {'x': 9, 'label': 'nine', 'importance': 0.8333527016745109},\n",
       " {'x': 10, 'label': 'ten', 'importance': 0.6861886936557657},\n",
       " {'x': 5, 'label': 'five', 'importance': 0.5957445915496751},\n",
       " {'x': 7, 'label': 'seven', 'importance': 0.550478803942821},\n",
       " {'x': 0, 'label': 'zero', 'importance': 0.5080088106533298},\n",
       " {'x': 11, 'label': 'eleven', 'importance': 0.4179081440917124},\n",
       " {'x': 8, 'label': 'eight', 'importance': 0.3700580181755895},\n",
       " {'x': 2, 'label': 'two', 'importance': 0.36245347086827107},\n",
       " {'x': 12, 'label': 'twelve', 'importance': 0.18765193345124653},\n",
       " {'x': 3, 'label': 'three', 'importance': 0.16535869131295655},\n",
       " {'x': 1, 'label': 'one', 'importance': 0.11675085269964924},\n",
       " {'x': 4, 'label': 'four', 'importance': 0.11387010240761841},\n",
       " {'x': 13, 'label': 'thirteen', 'importance': 0.09762117337882315},\n",
       " {'x': 6, 'label': 'six', 'importance': 0.055177675307162555}]"
      ]
     },
     "execution_count": 142,
     "metadata": {},
     "output_type": "execute_result"
    }
   ],
   "source": [
    "ctnl.tiles(a, 10, 0, importances)"
   ]
  },
  {
   "cell_type": "code",
   "execution_count": 143,
   "metadata": {},
   "outputs": [
    {
     "data": {
      "text/plain": [
       "[('a.0.0',\n",
       "  [{'x': 11246,\n",
       "    'label': 'eleven thousand, two hundred and forty-six',\n",
       "    'importance': 0.9999736270695223},\n",
       "   {'x': 10708,\n",
       "    'label': 'ten thousand, seven hundred and eight',\n",
       "    'importance': 0.9998138033867942},\n",
       "   {'x': 11554,\n",
       "    'label': 'eleven thousand, five hundred and fifty-four',\n",
       "    'importance': 0.9997830293211065},\n",
       "   {'x': 4621,\n",
       "    'label': 'four thousand, six hundred and twenty-one',\n",
       "    'importance': 0.999764908001679},\n",
       "   {'x': 4001,\n",
       "    'label': 'four thousand and one',\n",
       "    'importance': 0.9997541689994958},\n",
       "   {'x': 6195,\n",
       "    'label': 'six thousand, one hundred and ninety-five',\n",
       "    'importance': 0.999665922144971},\n",
       "   {'x': 11664,\n",
       "    'label': 'eleven thousand, six hundred and sixty-four',\n",
       "    'importance': 0.9996227001179917},\n",
       "   {'x': 8123,\n",
       "    'label': 'eight thousand, one hundred and twenty-three',\n",
       "    'importance': 0.9995495597779124},\n",
       "   {'x': 9314,\n",
       "    'label': 'nine thousand, three hundred and fourteen',\n",
       "    'importance': 0.9995297045486403},\n",
       "   {'x': 8065,\n",
       "    'label': 'eight thousand and sixty-five',\n",
       "    'importance': 0.9994798229131504},\n",
       "   {'x': 941,\n",
       "    'label': 'nine hundred and forty-one',\n",
       "    'importance': 0.999347882774},\n",
       "   {'x': 11786,\n",
       "    'label': 'eleven thousand, seven hundred and eighty-six',\n",
       "    'importance': 0.9990813515106639},\n",
       "   {'x': 15394,\n",
       "    'label': 'fifteen thousand, three hundred and ninety-four',\n",
       "    'importance': 0.9990798071934964},\n",
       "   {'x': 7921,\n",
       "    'label': 'seven thousand, nine hundred and twenty-one',\n",
       "    'importance': 0.9989868864328505},\n",
       "   {'x': 15288,\n",
       "    'label': 'fifteen thousand, two hundred and eighty-eight',\n",
       "    'importance': 0.9989525618854965},\n",
       "   {'x': 9116,\n",
       "    'label': 'nine thousand, one hundred and sixteen',\n",
       "    'importance': 0.9989201927681349}])]"
      ]
     },
     "execution_count": 143,
     "metadata": {},
     "output_type": "execute_result"
    }
   ],
   "source": [
    "import clodius.tiles.nplabels as ctnl\n",
    "\n",
    "ctnl.tiles_wrapper(a, [\"a.0.0\"], importances)"
   ]
  },
  {
   "cell_type": "code",
   "execution_count": 144,
   "metadata": {},
   "outputs": [
    {
     "name": "stdout",
     "output_type": "stream",
     "text": [
      "self.diskcache_directory /tmp/hgflask/dc True\n",
      "starting fuse\n",
      "terminating: RVDqSJQKT4qSWg8Im0mbhw\n",
      " * Serving Flask app \"higlass.server\" (lazy loading)\n",
      " * Environment: production\n",
      "   WARNING: Do not use the development server in a production environment.\n",
      "   Use a production WSGI server instead.\n",
      " * Debug mode: on\n"
     ]
    }
   ],
   "source": [
    "import higlass.server as hgse\n",
    "import higlass.tilesets as hgti\n",
    "\n",
    "import clodius.tiles.npvector as ctn\n",
    "\n",
    "ts = hgti.Tileset(\n",
    "    uuid='a',\n",
    "    tileset_info=lambda: ctn.tileset_info(a, bins_per_dimension=16),\n",
    "    tiles=lambda tids: ctnl.tiles_wrapper(a, tids, importances)\n",
    ")\n",
    "\n",
    "server = hgse.Server([ts], port=58720)\n",
    "server.start()"
   ]
  },
  {
   "cell_type": "code",
   "execution_count": 145,
   "metadata": {},
   "outputs": [
    {
     "name": "stdout",
     "output_type": "stream",
     "text": [
      "url: http://localhost:58720/api/v1/tiles/?d=a.1.0\n"
     ]
    },
    {
     "data": {
      "text/plain": [
       "[{'importance': 0.999764908001679,\n",
       "  'label': 'four thousand, six hundred and twenty-one',\n",
       "  'x': 4621},\n",
       " {'importance': 0.9997541689994958,\n",
       "  'label': 'four thousand and one',\n",
       "  'x': 4001},\n",
       " {'importance': 0.999665922144971,\n",
       "  'label': 'six thousand, one hundred and ninety-five',\n",
       "  'x': 6195},\n",
       " {'importance': 0.9995495597779124,\n",
       "  'label': 'eight thousand, one hundred and twenty-three',\n",
       "  'x': 8123},\n",
       " {'importance': 0.9994798229131504,\n",
       "  'label': 'eight thousand and sixty-five',\n",
       "  'x': 8065},\n",
       " {'importance': 0.999347882774,\n",
       "  'label': 'nine hundred and forty-one',\n",
       "  'x': 941},\n",
       " {'importance': 0.9989868864328505,\n",
       "  'label': 'seven thousand, nine hundred and twenty-one',\n",
       "  'x': 7921},\n",
       " {'importance': 0.9987966198056794,\n",
       "  'label': 'two thousand, six hundred and seventy',\n",
       "  'x': 2670},\n",
       " {'importance': 0.9987768701335783,\n",
       "  'label': 'seven thousand, eight hundred and sixteen',\n",
       "  'x': 7816},\n",
       " {'importance': 0.9987466289326662,\n",
       "  'label': 'four thousand, one hundred and forty-nine',\n",
       "  'x': 4149},\n",
       " {'importance': 0.9985925980893742,\n",
       "  'label': 'two hundred and thirty-four',\n",
       "  'x': 234},\n",
       " {'importance': 0.9983160422701184,\n",
       "  'label': 'six thousand, four hundred and forty-three',\n",
       "  'x': 6443},\n",
       " {'importance': 0.9983135751817591,\n",
       "  'label': 'two thousand and two',\n",
       "  'x': 2002},\n",
       " {'importance': 0.9982643673087103,\n",
       "  'label': 'five thousand, three hundred and one',\n",
       "  'x': 5301},\n",
       " {'importance': 0.9980548012095544,\n",
       "  'label': 'five thousand, six hundred and twenty-four',\n",
       "  'x': 5624},\n",
       " {'importance': 0.9979618264175256,\n",
       "  'label': 'one thousand, seven hundred and nine',\n",
       "  'x': 1709}]"
      ]
     },
     "execution_count": 145,
     "metadata": {},
     "output_type": "execute_result"
    }
   ],
   "source": [
    "server.tiles(ts.uuid, 1, 0)"
   ]
  },
  {
   "cell_type": "code",
   "execution_count": 146,
   "metadata": {},
   "outputs": [
    {
     "data": {
      "text/plain": [
       "'{\"editable\": true, \"views\": [{\"uid\": \"YDQk9PWvSUKUoabhNOIfTw\", \"tracks\": {\"top\": [{\"type\": \"top-axis\", \"options\": {}, \"height\": 50}, {\"type\": \"linear-labels\", \"options\": {}, \"tilesetUid\": \"a\", \"height\": 200, \"server\": \"http://localhost:58720/api/v1\"}], \"center\": [], \"left\": [], \"right\": [], \"bottom\": []}, \"layout\": {\"w\": 12, \"h\": 6, \"x\": 0, \"y\": 0}}], \"trackSourceServers\": [\"http://higlass.io/api/v1\"], \"locationLocks\": {\"locksByViewUid\": {}, \"locksDict\": {}}, \"zoomLocks\": {\"locksByViewUid\": {}, \"locksDict\": {}}, \"exportViewUrl\": \"http://higlass.io/api/v1/viewconfs\"}'"
      ]
     },
     "execution_count": 146,
     "metadata": {},
     "output_type": "execute_result"
    }
   ],
   "source": [
    "import higlass.client as hgc\n",
    "\n",
    "tr1 = hgc.Track('top-axis', height=50)\n",
    "tr = hgc.Track('linear-labels', tileset=ts, \n",
    "               height=200, position='top',\n",
    "              api_url=server.api_address)\n",
    "vc = hgc.ViewConf([hgc.View([tr1, tr])])\n",
    "\n",
    "import json\n",
    "json.dumps(vc.to_dict())"
   ]
  },
  {
   "cell_type": "code",
   "execution_count": null,
   "metadata": {},
   "outputs": [],
   "source": []
  }
 ],
 "metadata": {
  "kernelspec": {
   "display_name": "Python 3",
   "language": "python",
   "name": "python3"
  },
  "language_info": {
   "codemirror_mode": {
    "name": "ipython",
    "version": 3
   },
   "file_extension": ".py",
   "mimetype": "text/x-python",
   "name": "python",
   "nbconvert_exporter": "python",
   "pygments_lexer": "ipython3",
   "version": "3.6.2"
  }
 },
 "nbformat": 4,
 "nbformat_minor": 2
}
