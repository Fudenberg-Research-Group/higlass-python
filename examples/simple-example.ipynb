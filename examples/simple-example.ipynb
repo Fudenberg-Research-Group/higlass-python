{
 "cells": [
  {
   "cell_type": "markdown",
   "metadata": {},
   "source": [
    "# Simple example to get started"
   ]
  },
  {
   "cell_type": "code",
   "execution_count": 41,
   "metadata": {},
   "outputs": [
    {
     "name": "stdout",
     "output_type": "stream",
     "text": [
      "self.diskcache_directory /tmp/hgflask/dc True\n",
      "starting fuse\n",
      "terminating: bJ3uDChYQvikMoXSvChGnQ\n",
      " * Serving Flask app \"higlass.server\" (lazy loading)\n",
      " * Environment: production\n",
      "   WARNING: Do not use the development server in a production environment.\n",
      "   Use a production WSGI server instead.\n",
      " * Debug mode: on\n",
      "<class 'higlass.widgets.HiGlassDisplay'>\n"
     ]
    },
    {
     "data": {
      "application/vnd.jupyter.widget-view+json": {
       "model_id": "c3ed68a4255f44ae83805e1b4ac7ec7c",
       "version_major": 2,
       "version_minor": 0
      },
      "text/plain": [
       "HiGlassDisplay(viewconf={'editable': True, 'views': [{'uid': 'MKjC7l9cQH6yU2KX0iHECA', 'tracks': {'top': [{'ty…"
      ]
     },
     "metadata": {},
     "output_type": "display_data"
    }
   ],
   "source": [
    "import higlass\n",
    "import higlass.client as hgc\n",
    "\n",
    "view1 = hgc.View([\n",
    "    hgc.Track(track_type='top-axis', position='top'),\n",
    "    hgc.Track(track_type='heatmap', position='center',\n",
    "             tileset_uuid='CQMd6V_cRw6iCI_-Unl3PQ',\n",
    "              server=\"http://higlass.io/api/v1/\",\n",
    "              height=250,\n",
    "             options={ 'valueScaleMax': 0.5 }),\n",
    "\n",
    "])\n",
    "\n",
    "display, server, viewconf = higlass.display([view1])\n",
    "display"
   ]
  },
  {
   "cell_type": "code",
   "execution_count": null,
   "metadata": {},
   "outputs": [],
   "source": []
  }
 ],
 "metadata": {
  "kernelspec": {
   "display_name": "Python 3",
   "language": "python",
   "name": "python3"
  },
  "language_info": {
   "codemirror_mode": {
    "name": "ipython",
    "version": 3
   },
   "file_extension": ".py",
   "mimetype": "text/x-python",
   "name": "python",
   "nbconvert_exporter": "python",
   "pygments_lexer": "ipython3",
   "version": "3.7.2"
  }
 },
 "nbformat": 4,
 "nbformat_minor": 2
}
