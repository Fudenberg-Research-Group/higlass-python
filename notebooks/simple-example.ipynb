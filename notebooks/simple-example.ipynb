{
 "cells": [
  {
   "cell_type": "code",
   "execution_count": 9,
   "metadata": {
    "ExecuteTime": {
     "end_time": "2018-11-19T01:36:04.726374Z",
     "start_time": "2018-11-19T01:36:04.710755Z"
    }
   },
   "outputs": [
    {
     "data": {
      "application/vnd.jupyter.widget-view+json": {
       "model_id": "d77423944a6a42079ac83552fd5b8a16",
       "version_major": 2,
       "version_minor": 0
      },
      "text/plain": [
       "HiGlassDisplay(height=600, viewconf={'trackSourceServers': ['http://higlass.io/api/v1'], 'exportViewUrl': 'htt…"
      ]
     },
     "metadata": {},
     "output_type": "display_data"
    }
   ],
   "source": [
    "from higlass.widgets import HiGlassDisplay\n",
    "\n",
    "config = {\n",
    "  \"trackSourceServers\": [\n",
    "    \"http://higlass.io/api/v1\"\n",
    "  ],\n",
    "  \"exportViewUrl\": \"http://higlass.io/api/v1/viewconfs\",\n",
    "  \"editable\": True,\n",
    "  \"zoomFixed\": False,\n",
    "  \"views\": [\n",
    "    {\n",
    "      \"layout\": {\n",
    "        \"w\": 12,\n",
    "        \"h\": 6,\n",
    "        \"x\": 0,\n",
    "        \"y\": 0\n",
    "      },\n",
    "      \"tracks\": {\n",
    "        \"left\": [],\n",
    "        \"right\": [],\n",
    "        \"top\": [],\n",
    "        \"bottom\": []\n",
    "      } \n",
    "    }\n",
    "  ]\n",
    "}\n",
    "\n",
    "HiGlassDisplay(viewconf=config, height=600)"
   ]
  },
  {
   "cell_type": "code",
   "execution_count": null,
   "metadata": {},
   "outputs": [],
   "source": []
  }
 ],
 "metadata": {
  "kernelspec": {
   "display_name": "Python 3",
   "language": "python",
   "name": "python3"
  },
  "language_info": {
   "codemirror_mode": {
    "name": "ipython",
    "version": 3
   },
   "file_extension": ".py",
   "mimetype": "text/x-python",
   "name": "python",
   "nbconvert_exporter": "python",
   "pygments_lexer": "ipython3",
   "version": "3.6.7"
  },
  "toc": {
   "toc_cell": false,
   "toc_number_sections": true,
   "toc_threshold": 6,
   "toc_window_display": false
  }
 },
 "nbformat": 4,
 "nbformat_minor": 2
}
