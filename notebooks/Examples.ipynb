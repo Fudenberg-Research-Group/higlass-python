{
 "cells": [
  {
   "cell_type": "code",
   "execution_count": 22,
   "metadata": {},
   "outputs": [
    {
     "name": "stdout",
     "output_type": "stream",
     "text": [
      "The autoreload extension is already loaded. To reload it, use:\n",
      "  %reload_ext autoreload\n"
     ]
    }
   ],
   "source": [
    "%load_ext autoreload\n",
    "%autoreload 2\n",
    "%matplotlib inline"
   ]
  },
  {
   "cell_type": "code",
   "execution_count": 23,
   "metadata": {},
   "outputs": [
    {
     "name": "stdout",
     "output_type": "stream",
     "text": [
      "terminating: afK10q7CSlKc7gsC-ZeejQ\n",
      "self.tilesets: []\n",
      " * Serving Flask app \"higlass.server\" (lazy loading)\n",
      " * Environment: production\n",
      "   WARNING: Do not use the development server in a production environment.\n",
      "   Use a production WSGI server instead.\n",
      " * Debug mode: on\n",
      "TILESETS: []\n",
      "TILESETS: []\n",
      "TILESETS: []\n",
      "TILESETS: []\n",
      "TILESETS: []\n",
      "TILESETS: []\n",
      "TILESETS: []\n",
      "TILESETS: []\n",
      "TILESETS: []\n",
      "TILESETS: []\n",
      "TILESETS: []\n",
      "TILESETS: []\n",
      "TILESETS: []\n",
      "TILESETS: []\n",
      "TILESETS: []\n",
      "TILESETS: []\n",
      "TILESETS: []\n",
      "TILESETS: []\n",
      "TILESETS: []\n",
      "TILESETS: []\n",
      "TILESETS: []\n",
      "TILESETS: []\n",
      "TILESETS: []\n",
      "TILESETS: []\n",
      "TILESETS: []\n",
      "TILESETS: []\n",
      "TILESETS: []\n",
      "TILESETS: []\n"
     ]
    }
   ],
   "source": [
    "import higlass.server as hgse\n",
    "\n",
    "server = hgse.Server([])\n",
    "server.start()"
   ]
  },
  {
   "cell_type": "code",
   "execution_count": 28,
   "metadata": {},
   "outputs": [
    {
     "name": "stdout",
     "output_type": "stream",
     "text": [
      "url: http://localhost:55640/api/v1/register_url/\n",
      "CPU times: user 57.4 ms, sys: 32.6 ms, total: 89.9 ms\n",
      "Wall time: 7.81 s\n"
     ]
    }
   ],
   "source": [
    "%%time\n",
    "\n",
    "import requests\n",
    "import json\n",
    "\n",
    "url = 'http://localhost:{}/api/v1/register_url/'.format(server.port)\n",
    "print('url:', url)\n",
    "ret = requests.post(url,\n",
    "             json={\n",
    "                 'fileUrl': 'http://hgdownload.cse.ucsc.edu/goldenpath/hg19/encodeDCC/wgEncodeSydhTfbs/wgEncodeSydhTfbsGm12878InputStdSig.bigWig',\n",
    "                 #'fileUrl': 'http://localhost:8111/wgEncodeCaltechRnaSeqHuvecR1x75dTh1014IlnaPlusSignalRep2.bigWig',\n",
    "                 'filetype': \"bigwig\"\n",
    "             })\n",
    "uid = json.loads(ret.content)['uid']\n",
    "url = 'http://localhost:{}/api/v1/tiles/?d={}.2.0&d={}.2.1&d={}.2.2'.format(server.port, uid, uid, uid)\n",
    "#url = \"http://localhost:8111/wgEncodeCaltechRnaSeqHuvecR1x75dTh1014IlnaPlusSignalRep2.bigWig\"\n",
    "req = requests.get(url)\n",
    "#print('req', req.content)\n",
    "\n",
    "\"\"\"\n",
    "url = 'http://localhost:{}/api/v1/tileset_info/?d={}'.format(server.port, uid)\n",
    "print('url:', url);\n",
    "req = requests.get(url)\n",
    "print('req', req.content)\n",
    "\"\"\""
   ]
  },
  {
   "cell_type": "code",
   "execution_count": 25,
   "metadata": {},
   "outputs": [
    {
     "data": {
      "text/plain": [
       "'{\"editable\": true, \"views\": [{\"uid\": \"Cs0jaHTuQXuibqx36Ew1xg\", \"tracks\": {\"top\": [{\"type\": \"horizontal-bar\", \"options\": {}, \"server\": \"http://localhost:55640/api/v1\", \"fileUrl\": \"http://hgdownload.cse.ucsc.edu/goldenpath/hg19/encodeDCC/wgEncodeSydhTfbs/wgEncodeSydhTfbsGm12878InputStdSig.bigWig\", \"filetype\": \"bigwig\"}], \"center\": [], \"left\": [], \"right\": [], \"bottom\": []}, \"layout\": {\"w\": 12, \"h\": 6, \"x\": 0, \"y\": 0}}], \"trackSourceServers\": [\"http://higlass.io/api/v1\"], \"locationLocks\": {\"locksByViewUid\": {}, \"locksDict\": {}}, \"zoomLocks\": {\"locksByViewUid\": {}, \"locksDict\": {}}, \"exportViewUrl\": \"http://higlass.io/api/v1/viewconfs\"}'"
      ]
     },
     "execution_count": 25,
     "metadata": {},
     "output_type": "execute_result"
    }
   ],
   "source": [
    "import higlass.client as hgc\n",
    "import higlass.tilesets as hfti\n",
    "\n",
    "ts1 = hfti.bigwig('http://hgdownload.cse.ucsc.edu/goldenpath/hg19/encodeDCC/wgEncodeSydhTfbs/wgEncodeSydhTfbsGm12878InputStdSig.bigWig')\n",
    "\n",
    "tr1 = hgc.Track('horizontal-bar', \n",
    "                server=server.api_address,\n",
    "                filetype='bigwig',\n",
    "                file_url='http://hgdownload.cse.ucsc.edu/goldenpath/hg19/encodeDCC/wgEncodeSydhTfbs/wgEncodeSydhTfbsGm12878InputStdSig.bigWig')\n",
    "view1 = hgc.View([tr1])\n",
    "vc = hgc.ViewConf([view1])\n",
    "\n",
    "import json\n",
    "json.dumps(vc.to_json())"
   ]
  },
  {
   "cell_type": "code",
   "execution_count": 52,
   "metadata": {
    "collapsed": true
   },
   "outputs": [],
   "source": [
    "import higlass\n",
    "import higlass.client as hgc\n",
    "import higlass.tilesets as hti\n",
    "\n",
    "ts1 = hti.cooler('../data/Dixon2012-J1-NcoI-R1-filtered.100kb.multires.cool')\n",
    "\n",
    "tr1 = hgc.Track('top-axis')\n",
    "tr2 = hgc.Track('heatmap', tileset=ts1, height=100)\n",
    "#higlass.display([hgc.View([tr1, tr2])])()"
   ]
  },
  {
   "cell_type": "code",
   "execution_count": null,
   "metadata": {
    "collapsed": true
   },
   "outputs": [],
   "source": [
    "import higlass.tilesets as hfti\n",
    "\n",
    "ts = hfti.mmatrix('../data/int_matrices.hdf5')\n",
    "\n",
    "tr1 = hgc.Track('top-axis')\n",
    "tr2 = hgc.Track('heatmap', tileset=ts, height=200)\n",
    "\n",
    "(server, display) = higlass.display([hgc.View([tr1, tr2])])\n",
    "\n",
    "display"
   ]
  },
  {
   "cell_type": "code",
   "execution_count": null,
   "metadata": {
    "collapsed": true
   },
   "outputs": [],
   "source": [
    "height=200\n",
    "\n",
    "tr0 = hgc.Track('top-axis')\n",
    "tr1 = hgc.Track('osm-tiles', height=height)\n",
    "\n",
    "view1 = hgc.View([tr0, tr1], width=6)\n",
    "ts = hfti.mmatrix('../data/int_matrices.hdf5')\n",
    "\n",
    "tr1 = hgc.Track('top-axis')\n",
    "tr2 = hgc.Track('heatmap', tileset=ts, height=height)\n",
    "view2 = hgc.View([tr1, tr2], x=6, y=0, width=6)\n",
    "\n",
    "(server, display) = higlass.display([view1, view2], \n",
    "                                    location_sync=[view1, view2],\n",
    "                                    zoom_sync = [view1, view2])\n",
    "display"
   ]
  },
  {
   "cell_type": "code",
   "execution_count": null,
   "metadata": {
    "collapsed": true
   },
   "outputs": [],
   "source": [
    "height=200\n",
    "\n",
    "tr0 = hgc.Track('top-axis')\n",
    "tr1 = hgc.Track('heatmap', tileset=ts, height=height)\n",
    "\n",
    "view1 = hgc.View([tr0, tr1], width=6)\n",
    "ts = hfti.mmatrix('../data/int_matrices.hdf5')\n",
    "\n",
    "tr1 = hgc.Track('top-axis')\n",
    "tr2 = hgc.Track('heatmap', tileset=ts, height=height)\n",
    "view2 = hgc.View([tr1, tr2], x=6, y=0, width=6)\n",
    "\n",
    "(server, display) = higlass.display([view1, view2], \n",
    "                                    zoom_sync = [view1, view2])\n",
    "display"
   ]
  },
  {
   "cell_type": "code",
   "execution_count": null,
   "metadata": {
    "collapsed": true
   },
   "outputs": [],
   "source": [
    "ts1 = hfti.bigwig('http://hgdownload.cse.ucsc.edu/goldenpath/hg19/encodeDCC/wgEncodeSydhTfbs/wgEncodeSydhTfbsGm12878InputStdSig.bigWig')\n",
    "\n",
    "tr1 = hgc.Track('horizontal-bar', tileset=ts1)\n",
    "view1 = hgc.View([tr1])\n",
    "(server, display) = higlass.display([view1])\n",
    "\n",
    "display"
   ]
  },
  {
   "cell_type": "code",
   "execution_count": null,
   "metadata": {
    "collapsed": true
   },
   "outputs": [],
   "source": [
    "%%time \n",
    "\n",
    "x = server.tiles(ts1.uuid, 0, 0, 0)"
   ]
  },
  {
   "cell_type": "code",
   "execution_count": null,
   "metadata": {
    "collapsed": true
   },
   "outputs": [],
   "source": [
    "%%time\n",
    "\n",
    "import bbi\n",
    "\n",
    "a = [bbi.fetch('http://hgdownload.cse.ucsc.edu/goldenpath/hg19/encodeDCC/wgEncodeSydhTfbs/wgEncodeSydhTfbsGm12878InputStdSig.bigWig',\n",
    "         c, 1, 100000000, 100) \n",
    "     for c in ['chr1', 'chr2', 'chr3', 'chr4', 'chr5', 'chr6']]"
   ]
  },
  {
   "cell_type": "code",
   "execution_count": null,
   "metadata": {
    "collapsed": true
   },
   "outputs": [],
   "source": [
    "%%time\n",
    "from multiprocessing import Pool\n",
    "\n",
    "p = Pool(16)\n",
    "\n",
    "def fun(x):\n",
    "    import bbi\n",
    "    \n",
    "    return bbi.fetch('http://hgdownload.cse.ucsc.edu/goldenpath/hg19/encodeDCC/wgEncodeSydhTfbs/wgEncodeSydhTfbsGm12878InputStdSig.bigWig',\n",
    "         x, 1, 50000000, 100) \n",
    "\n",
    "\n",
    "chroms = ['chr{}'.format(i) for i in range(1, 16)]\n",
    "x = p.map(fun, chroms)"
   ]
  },
  {
   "cell_type": "code",
   "execution_count": null,
   "metadata": {
    "collapsed": true
   },
   "outputs": [],
   "source": [
    "%%time \n",
    "\n",
    "for chrom in chroms:\n",
    "    bbi.fetch('http://hgdownload.cse.ucsc.edu/goldenpath/hg19/encodeDCC/wgEncodeSydhTfbs/wgEncodeSydhTfbsGm12878InputStdSig.bigWig',\n",
    "         chrom, 1, 100000000, 100)"
   ]
  },
  {
   "cell_type": "code",
   "execution_count": null,
   "metadata": {
    "collapsed": true
   },
   "outputs": [],
   "source": []
  },
  {
   "cell_type": "code",
   "execution_count": null,
   "metadata": {
    "collapsed": true
   },
   "outputs": [],
   "source": []
  },
  {
   "cell_type": "code",
   "execution_count": null,
   "metadata": {
    "collapsed": true
   },
   "outputs": [],
   "source": []
  },
  {
   "cell_type": "code",
   "execution_count": 124,
   "metadata": {},
   "outputs": [
    {
     "name": "stdout",
     "output_type": "stream",
     "text": [
      "32\n"
     ]
    }
   ],
   "source": [
    "import hashlib as hl\n",
    "m=hl.sha256()\n",
    "m.update('hi'.encode('utf8'))\n",
    "print(len(m.digest()))"
   ]
  },
  {
   "cell_type": "markdown",
   "metadata": {
    "collapsed": true
   },
   "source": [
    "### Random tests"
   ]
  },
  {
   "cell_type": "code",
   "execution_count": 29,
   "metadata": {},
   "outputs": [
    {
     "name": "stdout",
     "output_type": "stream",
     "text": [
      "0\n",
      "1201040023124343\n",
      "\n",
      "\n",
      "\n",
      "\n",
      "\n",
      "\n",
      "\n",
      "\n",
      "\n",
      "\n",
      "\n",
      "\n",
      "\n",
      "\n",
      "\n",
      "42313142\n",
      "\n",
      "\n",
      "\n",
      "\n",
      "\n",
      "\n",
      "\n"
     ]
    }
   ],
   "source": [
    "from concurrent.futures import ThreadPoolExecutor\n",
    "\n",
    "def f1(x):\n",
    "    print(x)\n",
    "    \n",
    "def f2(y):\n",
    "    with ThreadPoolExecutor(max_workers=4) as e:\n",
    "        r = e.map(f1, range(5))\n",
    "    \n",
    "def f3():\n",
    "    with ThreadPoolExecutor(max_workers=4) as e:\n",
    "        r = e.map(f2, range(5))\n",
    "    \n",
    "f3()"
   ]
  },
  {
   "cell_type": "code",
   "execution_count": 25,
   "metadata": {},
   "outputs": [
    {
     "data": {
      "text/plain": [
       "['Barrier',\n",
       " 'BoundedSemaphore',\n",
       " 'BrokenBarrierError',\n",
       " 'Condition',\n",
       " 'Event',\n",
       " 'Lock',\n",
       " 'RLock',\n",
       " 'Semaphore',\n",
       " 'TIMEOUT_MAX',\n",
       " 'Thread',\n",
       " 'ThreadError',\n",
       " 'Timer',\n",
       " 'WeakSet',\n",
       " '_CRLock',\n",
       " '_DummyThread',\n",
       " '_MainThread',\n",
       " '_PyRLock',\n",
       " '_RLock',\n",
       " '__all__',\n",
       " '__builtins__',\n",
       " '__cached__',\n",
       " '__doc__',\n",
       " '__file__',\n",
       " '__loader__',\n",
       " '__name__',\n",
       " '__package__',\n",
       " '__spec__',\n",
       " '_active',\n",
       " '_active_limbo_lock',\n",
       " '_after_fork',\n",
       " '_allocate_lock',\n",
       " '_count',\n",
       " '_counter',\n",
       " '_dangling',\n",
       " '_deque',\n",
       " '_enumerate',\n",
       " '_format_exc',\n",
       " '_islice',\n",
       " '_limbo',\n",
       " '_main_thread',\n",
       " '_newname',\n",
       " '_pickSomeNonDaemonThread',\n",
       " '_profile_hook',\n",
       " '_set_sentinel',\n",
       " '_shutdown',\n",
       " '_start_new_thread',\n",
       " '_sys',\n",
       " '_time',\n",
       " '_trace_hook',\n",
       " 'activeCount',\n",
       " 'active_count',\n",
       " 'currentThread',\n",
       " 'current_thread',\n",
       " 'enumerate',\n",
       " 'get_ident',\n",
       " 'local',\n",
       " 'main_thread',\n",
       " 'setprofile',\n",
       " 'settrace',\n",
       " 'stack_size']"
      ]
     },
     "execution_count": 25,
     "metadata": {},
     "output_type": "execute_result"
    }
   ],
   "source": [
    "import threading as th\n",
    "dir(th)"
   ]
  },
  {
   "cell_type": "code",
   "execution_count": null,
   "metadata": {
    "collapsed": true
   },
   "outputs": [],
   "source": []
  }
 ],
 "metadata": {
  "kernelspec": {
   "display_name": "Python 3",
   "language": "python",
   "name": "python3"
  },
  "language_info": {
   "codemirror_mode": {
    "name": "ipython",
    "version": 3
   },
   "file_extension": ".py",
   "mimetype": "text/x-python",
   "name": "python",
   "nbconvert_exporter": "python",
   "pygments_lexer": "ipython3",
   "version": "3.6.2"
  }
 },
 "nbformat": 4,
 "nbformat_minor": 2
}
