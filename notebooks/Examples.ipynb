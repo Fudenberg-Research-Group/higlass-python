{
 "cells": [
  {
   "cell_type": "code",
   "execution_count": 65,
   "metadata": {},
   "outputs": [
    {
     "name": "stdout",
     "output_type": "stream",
     "text": [
      "The autoreload extension is already loaded. To reload it, use:\n",
      "  %reload_ext autoreload\n"
     ]
    }
   ],
   "source": [
    "%load_ext autoreload\n",
    "%autoreload 2\n",
    "%matplotlib inline"
   ]
  },
  {
   "cell_type": "code",
   "execution_count": 189,
   "metadata": {},
   "outputs": [
    {
     "name": "stdout",
     "output_type": "stream",
     "text": [
      "['__class__', '__delattr__', '__dict__', '__dir__', '__doc__', '__eq__', '__format__', '__ge__', '__getattribute__', '__gt__', '__hash__', '__init__', '__init_subclass__', '__le__', '__lt__', '__module__', '__ne__', '__new__', '__reduce__', '__reduce_ex__', '__repr__', '__setattr__', '__sizeof__', '__str__', '__subclasshook__', '__weakref__', 'chromsizes', 'chromsizes_fn', 'tiles', 'tiles_fn', 'tileset_info', 'tileset_info_fn', 'track_position', 'track_type', 'uuid']\n",
      "view: <higlass.client.View object at 0x108bfc898>\n",
      "terminating: N6Be8yKySX6vMfzVDI6hrg\n",
      "ts2: [<higlass.tilesets.Tileset object at 0x108c9d7f0>]\n",
      "ts2: [<higlass.tilesets.Tileset object at 0x108c9d7f0>]\n",
      " * Serving Flask app \"higlass.server\" (lazy loading)\n",
      " * Environment: production\n",
      "   WARNING: Do not use the development server in a production environment.\n",
      "   Use a production WSGI server instead.\n",
      " * Debug mode: on\n"
     ]
    },
    {
     "name": "stderr",
     "output_type": "stream",
     "text": [
      " * Running on http://0.0.0.0:55168/ (Press CTRL+C to quit)\n"
     ]
    },
    {
     "name": "stdout",
     "output_type": "stream",
     "text": [
      "sleeping\n"
     ]
    },
    {
     "name": "stderr",
     "output_type": "stream",
     "text": [
      "127.0.0.1 - - [16/Nov/2018 20:07:57] \"GET /api/v1/tileset_info/?d=a HTTP/1.1\" 200 -\n"
     ]
    },
    {
     "name": "stdout",
     "output_type": "stream",
     "text": [
      "ret: 200 b'{\\n  \"a\": {\\n    \"error\": \"No such tileset with uid: a\"\\n  }\\n}\\n'\n",
      "returning\n",
      "hi http://localhost:55168/api/v1\n",
      "conf: {'editable': True, 'views': [{'uid': 'fGVlaq83RQyQc2ZPZr4jBQ', 'tracks': {'top': [{'type': 'top-axis', 'options': {}, 'server': 'http://localhost:55168/api/v1'}], 'center': [{'type': 'heatmap', 'options': {}, 'tilesetUid': 'ZS0Q5iCsTCmRdwC0b-Aemw', 'height': 400, 'server': 'http://localhost:55168/api/v1'}], 'left': [], 'right': [], 'bottom': []}, 'layout': {'w': 12, 'h': 6, 'x': 0, 'y': 0}}], 'trackSourceServers': ['http://higlass.io/api/v1'], 'exportViewUrl': 'http://higlass.io/api/v1/viewconfs'}\n"
     ]
    },
    {
     "data": {
      "application/vnd.jupyter.widget-view+json": {
       "model_id": "b238271af02d4904b56f30cbc9e958c8",
       "version_major": 2,
       "version_minor": 0
      },
      "text/plain": [
       "HiGlassDisplay(viewconf={'editable': True, 'views': [{'uid': 'fGVlaq83RQyQc2ZPZr4jBQ', 'tracks': {'top': [{'ty…"
      ]
     },
     "metadata": {},
     "output_type": "display_data"
    },
    {
     "name": "stderr",
     "output_type": "stream",
     "text": [
      "127.0.0.1 - - [16/Nov/2018 20:07:58] \"OPTIONS /api/v1/tileset_info/?d=ZS0Q5iCsTCmRdwC0b-Aemw&s=Yef26OXWRMChfp_WkEUV2g HTTP/1.1\" 200 -\n",
      "127.0.0.1 - - [16/Nov/2018 20:07:58] \"GET /api/v1/tileset_info/?d=ZS0Q5iCsTCmRdwC0b-Aemw&s=Yef26OXWRMChfp_WkEUV2g HTTP/1.1\" 200 -\n",
      "127.0.0.1 - - [16/Nov/2018 20:07:58] \"OPTIONS /api/v1/tiles/?d=ZS0Q5iCsTCmRdwC0b-Aemw.7.0.0&d=ZS0Q5iCsTCmRdwC0b-Aemw.1.0.0&d=ZS0Q5iCsTCmRdwC0b-Aemw.1.0.1&d=ZS0Q5iCsTCmRdwC0b-Aemw.1.1.1&s=Yef26OXWRMChfp_WkEUV2g HTTP/1.1\" 200 -\n",
      "127.0.0.1 - - [16/Nov/2018 20:07:59] \"GET /api/v1/tiles/?d=ZS0Q5iCsTCmRdwC0b-Aemw.7.0.0&d=ZS0Q5iCsTCmRdwC0b-Aemw.1.0.0&d=ZS0Q5iCsTCmRdwC0b-Aemw.1.0.1&d=ZS0Q5iCsTCmRdwC0b-Aemw.1.1.1&s=Yef26OXWRMChfp_WkEUV2g HTTP/1.1\" 200 -\n",
      "127.0.0.1 - - [16/Nov/2018 20:08:02] \"OPTIONS /api/v1/tiles/?d=ZS0Q5iCsTCmRdwC0b-Aemw.3.1.2&d=ZS0Q5iCsTCmRdwC0b-Aemw.3.1.3&d=ZS0Q5iCsTCmRdwC0b-Aemw.3.2.2&d=ZS0Q5iCsTCmRdwC0b-Aemw.3.2.3&d=ZS0Q5iCsTCmRdwC0b-Aemw.3.3.3&s=Yef26OXWRMChfp_WkEUV2g HTTP/1.1\" 200 -\n",
      "127.0.0.1 - - [16/Nov/2018 20:08:02] \"GET /api/v1/tiles/?d=ZS0Q5iCsTCmRdwC0b-Aemw.3.1.2&d=ZS0Q5iCsTCmRdwC0b-Aemw.3.1.3&d=ZS0Q5iCsTCmRdwC0b-Aemw.3.2.2&d=ZS0Q5iCsTCmRdwC0b-Aemw.3.2.3&d=ZS0Q5iCsTCmRdwC0b-Aemw.3.3.3&s=Yef26OXWRMChfp_WkEUV2g HTTP/1.1\" 200 -\n",
      "127.0.0.1 - - [16/Nov/2018 20:08:04] \"OPTIONS /api/v1/tiles/?d=ZS0Q5iCsTCmRdwC0b-Aemw.6.21.22&d=ZS0Q5iCsTCmRdwC0b-Aemw.6.21.23&d=ZS0Q5iCsTCmRdwC0b-Aemw.6.22.22&d=ZS0Q5iCsTCmRdwC0b-Aemw.6.22.23&d=ZS0Q5iCsTCmRdwC0b-Aemw.6.23.23&s=Yef26OXWRMChfp_WkEUV2g HTTP/1.1\" 200 -\n",
      "127.0.0.1 - - [16/Nov/2018 20:08:05] \"GET /api/v1/tiles/?d=ZS0Q5iCsTCmRdwC0b-Aemw.6.21.22&d=ZS0Q5iCsTCmRdwC0b-Aemw.6.21.23&d=ZS0Q5iCsTCmRdwC0b-Aemw.6.22.22&d=ZS0Q5iCsTCmRdwC0b-Aemw.6.22.23&d=ZS0Q5iCsTCmRdwC0b-Aemw.6.23.23&s=Yef26OXWRMChfp_WkEUV2g HTTP/1.1\" 200 -\n",
      "127.0.0.1 - - [16/Nov/2018 20:08:06] \"OPTIONS /api/v1/tiles/?d=ZS0Q5iCsTCmRdwC0b-Aemw.3.2.2&d=ZS0Q5iCsTCmRdwC0b-Aemw.3.2.3&d=ZS0Q5iCsTCmRdwC0b-Aemw.3.3.3&s=Yef26OXWRMChfp_WkEUV2g HTTP/1.1\" 200 -\n",
      "127.0.0.1 - - [16/Nov/2018 20:08:06] \"GET /api/v1/tiles/?d=ZS0Q5iCsTCmRdwC0b-Aemw.3.2.2&d=ZS0Q5iCsTCmRdwC0b-Aemw.3.2.3&d=ZS0Q5iCsTCmRdwC0b-Aemw.3.3.3&s=Yef26OXWRMChfp_WkEUV2g HTTP/1.1\" 200 -\n",
      "127.0.0.1 - - [16/Nov/2018 20:08:07] \"OPTIONS /api/v1/tiles/?d=ZS0Q5iCsTCmRdwC0b-Aemw.3.1.2&d=ZS0Q5iCsTCmRdwC0b-Aemw.3.1.3&s=Yef26OXWRMChfp_WkEUV2g HTTP/1.1\" 200 -\n",
      "127.0.0.1 - - [16/Nov/2018 20:08:08] \"GET /api/v1/tiles/?d=ZS0Q5iCsTCmRdwC0b-Aemw.3.1.2&d=ZS0Q5iCsTCmRdwC0b-Aemw.3.1.3&s=Yef26OXWRMChfp_WkEUV2g HTTP/1.1\" 200 -\n",
      "127.0.0.1 - - [16/Nov/2018 20:08:43] \"OPTIONS /api/v1/tiles/?d=ZS0Q5iCsTCmRdwC0b-Aemw.4.4.5&d=ZS0Q5iCsTCmRdwC0b-Aemw.4.4.6&d=ZS0Q5iCsTCmRdwC0b-Aemw.4.5.5&d=ZS0Q5iCsTCmRdwC0b-Aemw.4.5.6&d=ZS0Q5iCsTCmRdwC0b-Aemw.4.6.6&s=Yef26OXWRMChfp_WkEUV2g HTTP/1.1\" 200 -\n",
      "127.0.0.1 - - [16/Nov/2018 20:08:43] \"OPTIONS /api/v1/tiles/?d=ZS0Q5iCsTCmRdwC0b-Aemw.5.9.10&d=ZS0Q5iCsTCmRdwC0b-Aemw.5.9.11&d=ZS0Q5iCsTCmRdwC0b-Aemw.5.10.10&d=ZS0Q5iCsTCmRdwC0b-Aemw.5.10.11&d=ZS0Q5iCsTCmRdwC0b-Aemw.5.11.11&s=Yef26OXWRMChfp_WkEUV2g HTTP/1.1\" 200 -\n",
      "127.0.0.1 - - [16/Nov/2018 20:08:45] \"GET /api/v1/tiles/?d=ZS0Q5iCsTCmRdwC0b-Aemw.5.9.10&d=ZS0Q5iCsTCmRdwC0b-Aemw.5.9.11&d=ZS0Q5iCsTCmRdwC0b-Aemw.5.10.10&d=ZS0Q5iCsTCmRdwC0b-Aemw.5.10.11&d=ZS0Q5iCsTCmRdwC0b-Aemw.5.11.11&s=Yef26OXWRMChfp_WkEUV2g HTTP/1.1\" 200 -\n",
      "127.0.0.1 - - [16/Nov/2018 20:08:45] \"GET /api/v1/tiles/?d=ZS0Q5iCsTCmRdwC0b-Aemw.4.4.5&d=ZS0Q5iCsTCmRdwC0b-Aemw.4.4.6&d=ZS0Q5iCsTCmRdwC0b-Aemw.4.5.5&d=ZS0Q5iCsTCmRdwC0b-Aemw.4.5.6&d=ZS0Q5iCsTCmRdwC0b-Aemw.4.6.6&s=Yef26OXWRMChfp_WkEUV2g HTTP/1.1\" 200 -\n",
      "127.0.0.1 - - [16/Nov/2018 20:08:46] \"OPTIONS /api/v1/tiles/?d=ZS0Q5iCsTCmRdwC0b-Aemw.3.1.2&d=ZS0Q5iCsTCmRdwC0b-Aemw.3.1.3&d=ZS0Q5iCsTCmRdwC0b-Aemw.3.2.2&d=ZS0Q5iCsTCmRdwC0b-Aemw.3.2.3&d=ZS0Q5iCsTCmRdwC0b-Aemw.3.3.3&s=Yef26OXWRMChfp_WkEUV2g HTTP/1.1\" 200 -\n",
      "127.0.0.1 - - [16/Nov/2018 20:08:47] \"GET /api/v1/tiles/?d=ZS0Q5iCsTCmRdwC0b-Aemw.3.1.2&d=ZS0Q5iCsTCmRdwC0b-Aemw.3.1.3&d=ZS0Q5iCsTCmRdwC0b-Aemw.3.2.2&d=ZS0Q5iCsTCmRdwC0b-Aemw.3.2.3&d=ZS0Q5iCsTCmRdwC0b-Aemw.3.3.3&s=Yef26OXWRMChfp_WkEUV2g HTTP/1.1\" 200 -\n",
      "127.0.0.1 - - [16/Nov/2018 20:08:50] \"OPTIONS /api/v1/tiles/?d=ZS0Q5iCsTCmRdwC0b-Aemw.3.2.4&d=ZS0Q5iCsTCmRdwC0b-Aemw.3.3.4&s=Yef26OXWRMChfp_WkEUV2g HTTP/1.1\" 200 -\n",
      "127.0.0.1 - - [16/Nov/2018 20:08:50] \"GET /api/v1/tiles/?d=ZS0Q5iCsTCmRdwC0b-Aemw.3.2.4&d=ZS0Q5iCsTCmRdwC0b-Aemw.3.3.4&s=Yef26OXWRMChfp_WkEUV2g HTTP/1.1\" 200 -\n",
      "127.0.0.1 - - [16/Nov/2018 20:08:52] \"OPTIONS /api/v1/tiles/?d=ZS0Q5iCsTCmRdwC0b-Aemw.5.11.12&d=ZS0Q5iCsTCmRdwC0b-Aemw.5.11.13&d=ZS0Q5iCsTCmRdwC0b-Aemw.5.11.14&d=ZS0Q5iCsTCmRdwC0b-Aemw.5.12.12&d=ZS0Q5iCsTCmRdwC0b-Aemw.5.12.13&d=ZS0Q5iCsTCmRdwC0b-Aemw.5.12.14&d=ZS0Q5iCsTCmRdwC0b-Aemw.5.13.13&d=ZS0Q5iCsTCmRdwC0b-Aemw.5.13.14&s=Yef26OXWRMChfp_WkEUV2g HTTP/1.1\" 200 -\n",
      "127.0.0.1 - - [16/Nov/2018 20:08:53] \"GET /api/v1/tiles/?d=ZS0Q5iCsTCmRdwC0b-Aemw.5.11.12&d=ZS0Q5iCsTCmRdwC0b-Aemw.5.11.13&d=ZS0Q5iCsTCmRdwC0b-Aemw.5.11.14&d=ZS0Q5iCsTCmRdwC0b-Aemw.5.12.12&d=ZS0Q5iCsTCmRdwC0b-Aemw.5.12.13&d=ZS0Q5iCsTCmRdwC0b-Aemw.5.12.14&d=ZS0Q5iCsTCmRdwC0b-Aemw.5.13.13&d=ZS0Q5iCsTCmRdwC0b-Aemw.5.13.14&s=Yef26OXWRMChfp_WkEUV2g HTTP/1.1\" 200 -\n"
     ]
    }
   ],
   "source": [
    "import higlass\n",
    "import higlass.client as hgc\n",
    "import higlass.tilesets as hti\n",
    "\n",
    "ts1 = hti.cooler('../data/Dixon2012-J1-NcoI-R1-filtered.100kb.multires.cool')\n",
    "print(dir(ts1))\n",
    "\n",
    "tr1 = hgc.Track('top-axis')\n",
    "tr2 = hgc.Track('heatmap', tileset=ts1, height=400)\n",
    "higlass.display([hgc.View([tr1, tr2])])()"
   ]
  },
  {
   "cell_type": "code",
   "execution_count": 175,
   "metadata": {},
   "outputs": [
    {
     "data": {
      "text/plain": [
       "['__class__',\n",
       " '__delattr__',\n",
       " '__dict__',\n",
       " '__dir__',\n",
       " '__doc__',\n",
       " '__eq__',\n",
       " '__format__',\n",
       " '__ge__',\n",
       " '__getattribute__',\n",
       " '__gt__',\n",
       " '__hash__',\n",
       " '__init__',\n",
       " '__init_subclass__',\n",
       " '__le__',\n",
       " '__lt__',\n",
       " '__module__',\n",
       " '__ne__',\n",
       " '__new__',\n",
       " '__reduce__',\n",
       " '__reduce_ex__',\n",
       " '__repr__',\n",
       " '__setattr__',\n",
       " '__sizeof__',\n",
       " '__str__',\n",
       " '__subclasshook__',\n",
       " '__weakref__',\n",
       " 'chromsizes',\n",
       " 'chromsizes_fn',\n",
       " 'tiles',\n",
       " 'tiles_fn',\n",
       " 'tileset_info',\n",
       " 'tileset_info_fn',\n",
       " 'track_position',\n",
       " 'track_type',\n",
       " 'uuid']"
      ]
     },
     "execution_count": 175,
     "metadata": {},
     "output_type": "execute_result"
    }
   ],
   "source": [
    "dir(ts1)"
   ]
  },
  {
   "cell_type": "code",
   "execution_count": 150,
   "metadata": {},
   "outputs": [
    {
     "data": {
      "application/vnd.jupyter.widget-view+json": {
       "model_id": "5232910d548d48edadaaa58a7ef7970b",
       "version_major": 2,
       "version_minor": 0
      },
      "text/plain": [
       "HiGlassDisplay(viewconf={'editable': True, 'views': [{'uid': 'a-v63370Q0C4Zge7H4Q1mA', 'tracks': {'top': [], '…"
      ]
     },
     "metadata": {},
     "output_type": "display_data"
    }
   ],
   "source": [
    "from higlass_jupyter import HiGlassDisplay\n",
    "\n",
    "conf = hgc.ViewConf( [view] )\n",
    "HiGlassDisplay(viewconf=conf.to_json())"
   ]
  },
  {
   "cell_type": "code",
   "execution_count": 160,
   "metadata": {},
   "outputs": [
    {
     "name": "stdout",
     "output_type": "stream",
     "text": [
      "conf.to_json() {'editable': True, 'views': [{'uid': 'a-v63370Q0C4Zge7H4Q1mA', 'tracks': {'top': [], 'center': [{'type': 'heatmap', 'options': {}, 'server': 'http://localhost:63980/api/v1', 'tilesetUid': 'SpqU3mOaRyCTdyg_NyWlBQ'}], 'left': [], 'right': [], 'bottom': []}, 'layout': {'w': 12, 'h': 6, 'x': 0, 'y': 0}}], 'trackSourceServers': ['http://higlass.io/api/v1'], 'exportViewUrl': 'http://higlass.io/api/v1/viewconfs'}\n"
     ]
    },
    {
     "data": {
      "application/vnd.jupyter.widget-view+json": {
       "model_id": "4d62e518f4874335a6ef2687670cd100",
       "version_major": 2,
       "version_minor": 0
      },
      "text/plain": [
       "HiGlassDisplay(viewconf={'editable': True, 'views': [{'uid': 'a-v63370Q0C4Zge7H4Q1mA', 'tracks': {'top': [], '…"
      ]
     },
     "metadata": {},
     "output_type": "display_data"
    }
   ],
   "source": [
    "higlass.display([view])()"
   ]
  },
  {
   "cell_type": "code",
   "execution_count": 17,
   "metadata": {},
   "outputs": [
    {
     "name": "stdout",
     "output_type": "stream",
     "text": [
      "track.position top\n"
     ]
    },
    {
     "data": {
      "application/vnd.jupyter.widget-view+json": {
       "model_id": "39e43a9e7a6d41fabc2c3cf0e90f5564",
       "version_major": 2,
       "version_minor": 0
      },
      "text/plain": [
       "HiGlassDisplay(viewconf={'editable': True, 'views': [{'uid': 'aaMo-EWgTxuw0JvSgd9D1A', 'tracks': {'top': [{'ty…"
      ]
     },
     "metadata": {},
     "output_type": "display_data"
    }
   ],
   "source": [
    "import higlass_jupyter as hiju\n",
    "import higlass.client as hgc\n",
    "\n",
    "conf = hgc.ViewConf([\n",
    "    hgc.View([\n",
    "        hgc.Track(track_type='top-axis', position='top'),   \n",
    "\n",
    "    ])\n",
    "])\n",
    "\n",
    "hiju.HiGlassDisplay(viewconf=conf.to_json())"
   ]
  },
  {
   "cell_type": "code",
   "execution_count": null,
   "metadata": {},
   "outputs": [],
   "source": []
  }
 ],
 "metadata": {
  "kernelspec": {
   "display_name": "Python 3",
   "language": "python",
   "name": "python3"
  }
 },
 "nbformat": 4,
 "nbformat_minor": 2
}
