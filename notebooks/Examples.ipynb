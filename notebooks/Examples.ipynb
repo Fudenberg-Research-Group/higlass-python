{
 "cells": [
  {
   "cell_type": "code",
   "execution_count": 1,
   "metadata": {},
   "outputs": [],
   "source": [
    "%load_ext autoreload\n",
    "%autoreload 2\n",
    "%matplotlib inline"
   ]
  },
  {
   "cell_type": "code",
   "execution_count": 2,
   "metadata": {},
   "outputs": [],
   "source": [
    "import higlass\n",
    "import higlass.client as hgc\n",
    "import higlass.tilesets as hti\n",
    "\n",
    "ts1 = hti.cooler('../data/Dixon2012-J1-NcoI-R1-filtered.100kb.multires.cool')\n",
    "\n",
    "tr1 = hgc.Track('top-axis')\n",
    "tr2 = hgc.Track('heatmap', tileset=ts1, height=100)\n",
    "#higlass.display([hgc.View([tr1, tr2])])()"
   ]
  },
  {
   "cell_type": "code",
   "execution_count": 8,
   "metadata": {},
   "outputs": [
    {
     "name": "stdout",
     "output_type": "stream",
     "text": [
      "terminating: Y-AitNFTThS05r9g6fcdLg\n",
      "self.tilesets: [<higlass.tilesets.Tileset object at 0x1122c2f60>]\n",
      " * Serving Flask app \"higlass.server\" (lazy loading)\n",
      " * Environment: production\n",
      "   WARNING: Do not use the development server in a production environment.\n",
      "   Use a production WSGI server instead.\n",
      " * Debug mode: on\n",
      "info: {'bins_per_dimension': 256, 'max_pos': [180, 180], 'max_width': 360, 'max_zoom': 6, 'min_pos': [-180, -180], 'mirror_tiles': 'false'}\n"
     ]
    },
    {
     "data": {
      "application/vnd.jupyter.widget-view+json": {
       "model_id": "1ffbcffdffbf4e0b8e9a56870a555939",
       "version_major": 2,
       "version_minor": 0
      },
      "text/plain": [
       "HiGlassDisplay(viewconf={'editable': True, 'views': [{'uid': 'Zfr05F-BToCGVLEuo-UeKg', 'tracks': {'top': [{'ty…"
      ]
     },
     "metadata": {},
     "output_type": "display_data"
    }
   ],
   "source": [
    "import higlass.tilesets as hfti\n",
    "\n",
    "ts = hfti.mmatrix('../data/int_matrices.hdf5')\n",
    "\n",
    "tr1 = hgc.Track('top-axis')\n",
    "tr2 = hgc.Track('heatmap', tileset=ts, height=200)\n",
    "\n",
    "(server, display) = higlass.display([hgc.View([tr1, tr2])])\n",
    "\n",
    "display"
   ]
  },
  {
   "cell_type": "code",
   "execution_count": 33,
   "metadata": {},
   "outputs": [
    {
     "name": "stdout",
     "output_type": "stream",
     "text": [
      "terminating: G_rkOeq_TA--hdF7DZ_NqA\n",
      "self.tilesets: [<higlass.tilesets.Tileset object at 0x11271ec18>]\n",
      " * Serving Flask app \"higlass.server\" (lazy loading)\n",
      " * Environment: production\n",
      "   WARNING: Do not use the development server in a production environment.\n",
      "   Use a production WSGI server instead.\n",
      " * Debug mode: on\n",
      "adding: dkei5hkSSQWxl71RRmftlw\n",
      "adding: Rro0VIg4RgSSOtyrEGstbQ\n",
      "adding: dkei5hkSSQWxl71RRmftlw\n",
      "adding: Rro0VIg4RgSSOtyrEGstbQ\n"
     ]
    },
    {
     "data": {
      "application/vnd.jupyter.widget-view+json": {
       "model_id": "548565af3fba471ab745be2c3b88e8a8",
       "version_major": 2,
       "version_minor": 0
      },
      "text/plain": [
       "HiGlassDisplay(viewconf={'editable': True, 'views': [{'uid': 'dkei5hkSSQWxl71RRmftlw', 'tracks': {'top': [{'ty…"
      ]
     },
     "metadata": {},
     "output_type": "display_data"
    }
   ],
   "source": [
    "height=200\n",
    "\n",
    "tr0 = hgc.Track('top-axis')\n",
    "tr1 = hgc.Track('osm-tiles', height=height)\n",
    "\n",
    "view1 = hgc.View([tr0, tr1], width=6)\n",
    "ts = hfti.mmatrix('../data/int_matrices.hdf5')\n",
    "\n",
    "tr1 = hgc.Track('top-axis')\n",
    "tr2 = hgc.Track('heatmap', tileset=ts, height=height)\n",
    "view2 = hgc.View([tr1, tr2], x=6, y=0, width=6)\n",
    "\n",
    "(server, display) = higlass.display([view1, view2], \n",
    "                                    location_sync=[view1, view2],\n",
    "                                    zoom_sync = [view1, view2])\n",
    "display"
   ]
  },
  {
   "cell_type": "code",
   "execution_count": 36,
   "metadata": {},
   "outputs": [
    {
     "name": "stdout",
     "output_type": "stream",
     "text": [
      "terminating: ffKQewigQEidGjIWPXLfvw\n",
      "self.tilesets: [<higlass.tilesets.Tileset object at 0x11271e160>, <higlass.tilesets.Tileset object at 0x11229abe0>]\n",
      " * Serving Flask app \"higlass.server\" (lazy loading)\n",
      " * Environment: production\n",
      "   WARNING: Do not use the development server in a production environment.\n",
      "   Use a production WSGI server instead.\n",
      " * Debug mode: on\n",
      "adding: IOXvvTc0RFygpPI1yUhRGQ\n",
      "adding: VoFdjoThQgOByd6fv4Fpvw\n"
     ]
    },
    {
     "data": {
      "application/vnd.jupyter.widget-view+json": {
       "model_id": "3342a976f5904ec1ab23b8d8e916382e",
       "version_major": 2,
       "version_minor": 0
      },
      "text/plain": [
       "HiGlassDisplay(viewconf={'editable': True, 'views': [{'uid': 'IOXvvTc0RFygpPI1yUhRGQ', 'tracks': {'top': [{'ty…"
      ]
     },
     "metadata": {},
     "output_type": "display_data"
    }
   ],
   "source": [
    "height=200\n",
    "\n",
    "tr0 = hgc.Track('top-axis')\n",
    "tr1 = hgc.Track('heatmap', tileset=ts, height=height)\n",
    "\n",
    "view1 = hgc.View([tr0, tr1], width=6)\n",
    "ts = hfti.mmatrix('../data/int_matrices.hdf5')\n",
    "\n",
    "tr1 = hgc.Track('top-axis')\n",
    "tr2 = hgc.Track('heatmap', tileset=ts, height=height)\n",
    "view2 = hgc.View([tr1, tr2], x=6, y=0, width=6)\n",
    "\n",
    "(server, display) = higlass.display([view1, view2], \n",
    "                                    zoom_sync = [view1, view2])\n",
    "display"
   ]
  },
  {
   "cell_type": "code",
   "execution_count": null,
   "metadata": {},
   "outputs": [],
   "source": []
  }
 ],
 "metadata": {
  "kernelspec": {
   "display_name": "Python 3",
   "language": "python",
   "name": "python3"
  },
  "language_info": {
   "codemirror_mode": {
    "name": "ipython",
    "version": 3
   },
   "file_extension": ".py",
   "mimetype": "text/x-python",
   "name": "python",
   "nbconvert_exporter": "python",
   "pygments_lexer": "ipython3",
   "version": "3.6.2"
  }
 },
 "nbformat": 4,
 "nbformat_minor": 2
}
