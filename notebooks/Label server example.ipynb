{
 "cells": [
  {
   "cell_type": "code",
   "execution_count": 7,
   "metadata": {},
   "outputs": [
    {
     "name": "stdout",
     "output_type": "stream",
     "text": [
      "The autoreload extension is already loaded. To reload it, use:\n",
      "  %reload_ext autoreload\n"
     ]
    }
   ],
   "source": [
    "%load_ext autoreload\n",
    "%autoreload 2\n",
    "%matplotlib inline"
   ]
  },
  {
   "cell_type": "code",
   "execution_count": 8,
   "metadata": {},
   "outputs": [
    {
     "name": "stdout",
     "output_type": "stream",
     "text": [
      "CPU times: user 1.56 s, sys: 11.7 ms, total: 1.58 s\n",
      "Wall time: 1.62 s\n"
     ]
    }
   ],
   "source": [
    "%%time \n",
    "\n",
    "from num2words import num2words\n",
    "import numpy as np\n",
    "\n",
    "a = np.array([num2words(i) for i in range(2 ** 14)])\n",
    "importances = np.random.random((len(a),))"
   ]
  },
  {
   "cell_type": "code",
   "execution_count": 9,
   "metadata": {},
   "outputs": [
    {
     "data": {
      "text/plain": [
       "{'max_width': 16384,\n",
       " 'min_pos': [0],\n",
       " 'max_pos': [16384],\n",
       " 'max_zoom': 10,\n",
       " 'bins_per_dimension': 16}"
      ]
     },
     "execution_count": 9,
     "metadata": {},
     "output_type": "execute_result"
    }
   ],
   "source": [
    "import clodius.tiles.npvector as ctn\n",
    "import clodius.tiles.nplabels as ctnl\n",
    "\n",
    "ctn.tileset_info(a, bins_per_dimension=16)"
   ]
  },
  {
   "cell_type": "code",
   "execution_count": 10,
   "metadata": {},
   "outputs": [
    {
     "data": {
      "text/plain": [
       "[{'x': 11, 'label': 'eleven', 'importance': 0.9966899584361073},\n",
       " {'x': 2, 'label': 'two', 'importance': 0.9663691751847944},\n",
       " {'x': 10, 'label': 'ten', 'importance': 0.9321829261681193},\n",
       " {'x': 0, 'label': 'zero', 'importance': 0.8957289986640421},\n",
       " {'x': 15, 'label': 'fifteen', 'importance': 0.8620623049913962},\n",
       " {'x': 12, 'label': 'twelve', 'importance': 0.8338708036918913},\n",
       " {'x': 7, 'label': 'seven', 'importance': 0.7430566696154997},\n",
       " {'x': 1, 'label': 'one', 'importance': 0.6845762505114142},\n",
       " {'x': 3, 'label': 'three', 'importance': 0.6376181536007358},\n",
       " {'x': 6, 'label': 'six', 'importance': 0.6358460254736632},\n",
       " {'x': 13, 'label': 'thirteen', 'importance': 0.4522726752246585},\n",
       " {'x': 5, 'label': 'five', 'importance': 0.4504358953929386},\n",
       " {'x': 9, 'label': 'nine', 'importance': 0.29410339650190787},\n",
       " {'x': 4, 'label': 'four', 'importance': 0.2624105767287426},\n",
       " {'x': 14, 'label': 'fourteen', 'importance': 0.19916330081934752},\n",
       " {'x': 8, 'label': 'eight', 'importance': 0.17719570893947978}]"
      ]
     },
     "execution_count": 10,
     "metadata": {},
     "output_type": "execute_result"
    }
   ],
   "source": [
    "ctnl.tiles(a, 10, 0, importances)"
   ]
  },
  {
   "cell_type": "code",
   "execution_count": 11,
   "metadata": {},
   "outputs": [
    {
     "data": {
      "text/plain": [
       "[('a.0.0',\n",
       "  [{'x': 5745,\n",
       "    'label': 'five thousand, seven hundred and forty-five',\n",
       "    'importance': 0.9997329359741064},\n",
       "   {'x': 5347,\n",
       "    'label': 'five thousand, three hundred and forty-seven',\n",
       "    'importance': 0.9996384321817671},\n",
       "   {'x': 5665,\n",
       "    'label': 'five thousand, six hundred and sixty-five',\n",
       "    'importance': 0.9995220327626037},\n",
       "   {'x': 4734,\n",
       "    'label': 'four thousand, seven hundred and thirty-four',\n",
       "    'importance': 0.9993479012187797},\n",
       "   {'x': 10434,\n",
       "    'label': 'ten thousand, four hundred and thirty-four',\n",
       "    'importance': 0.9993372363008683},\n",
       "   {'x': 2266,\n",
       "    'label': 'two thousand, two hundred and sixty-six',\n",
       "    'importance': 0.9993044986427586},\n",
       "   {'x': 11263,\n",
       "    'label': 'eleven thousand, two hundred and sixty-three',\n",
       "    'importance': 0.9992932961771549},\n",
       "   {'x': 2913,\n",
       "    'label': 'two thousand, nine hundred and thirteen',\n",
       "    'importance': 0.9992102656744579},\n",
       "   {'x': 13236,\n",
       "    'label': 'thirteen thousand, two hundred and thirty-six',\n",
       "    'importance': 0.9991508157205726},\n",
       "   {'x': 14919,\n",
       "    'label': 'fourteen thousand, nine hundred and nineteen',\n",
       "    'importance': 0.9989862195541055},\n",
       "   {'x': 3714,\n",
       "    'label': 'three thousand, seven hundred and fourteen',\n",
       "    'importance': 0.9989019098355865},\n",
       "   {'x': 13232,\n",
       "    'label': 'thirteen thousand, two hundred and thirty-two',\n",
       "    'importance': 0.9987979373390123},\n",
       "   {'x': 11038,\n",
       "    'label': 'eleven thousand and thirty-eight',\n",
       "    'importance': 0.9987900006831693},\n",
       "   {'x': 3284,\n",
       "    'label': 'three thousand, two hundred and eighty-four',\n",
       "    'importance': 0.9987030972631691},\n",
       "   {'x': 8062,\n",
       "    'label': 'eight thousand and sixty-two',\n",
       "    'importance': 0.9986777322008005},\n",
       "   {'x': 5847,\n",
       "    'label': 'five thousand, eight hundred and forty-seven',\n",
       "    'importance': 0.9985713591011184}])]"
      ]
     },
     "execution_count": 11,
     "metadata": {},
     "output_type": "execute_result"
    }
   ],
   "source": [
    "import clodius.tiles.nplabels as ctnl\n",
    "\n",
    "ctnl.tiles_wrapper(a, [\"a.0.0\"], importances)"
   ]
  },
  {
   "cell_type": "code",
   "execution_count": 12,
   "metadata": {},
   "outputs": [
    {
     "name": "stdout",
     "output_type": "stream",
     "text": [
      "self.diskcache_directory /tmp/higlass-python/dc True\n",
      "starting fuse\n",
      "self.diskcache_directory /tmp/hgflask/dc True\n",
      "starting fuse\n",
      " * Serving Flask app \"higlass.server\" (lazy loading)\n",
      " * Environment: production\n",
      "   WARNING: Do not use the development server in a production environment.\n",
      "   Use a production WSGI server instead.\n",
      " * Debug mode: on\n"
     ]
    }
   ],
   "source": [
    "import higlass.server as hgse\n",
    "import higlass.tilesets as hgti\n",
    "\n",
    "import clodius.tiles.npvector as ctn\n",
    "\n",
    "ts = hgti.Tileset(\n",
    "    uuid='a',\n",
    "    tileset_info=lambda: ctn.tileset_info(a, bins_per_dimension=16),\n",
    "    tiles=lambda tids: ctnl.tiles_wrapper(a, tids, importances)\n",
    ")\n",
    "\n",
    "server = hgse.Server([ts], port=58720)\n",
    "server.start()"
   ]
  },
  {
   "cell_type": "code",
   "execution_count": 13,
   "metadata": {},
   "outputs": [
    {
     "name": "stdout",
     "output_type": "stream",
     "text": [
      "url: http://localhost:58720/api/v1/tiles/?d=a.1.0\n"
     ]
    },
    {
     "data": {
      "text/plain": [
       "[{'importance': 0.9997329359741064,\n",
       "  'label': 'five thousand, seven hundred and forty-five',\n",
       "  'x': 5745},\n",
       " {'importance': 0.9996384321817671,\n",
       "  'label': 'five thousand, three hundred and forty-seven',\n",
       "  'x': 5347},\n",
       " {'importance': 0.9995220327626037,\n",
       "  'label': 'five thousand, six hundred and sixty-five',\n",
       "  'x': 5665},\n",
       " {'importance': 0.9993479012187797,\n",
       "  'label': 'four thousand, seven hundred and thirty-four',\n",
       "  'x': 4734},\n",
       " {'importance': 0.9993044986427586,\n",
       "  'label': 'two thousand, two hundred and sixty-six',\n",
       "  'x': 2266},\n",
       " {'importance': 0.9992102656744579,\n",
       "  'label': 'two thousand, nine hundred and thirteen',\n",
       "  'x': 2913},\n",
       " {'importance': 0.9989019098355865,\n",
       "  'label': 'three thousand, seven hundred and fourteen',\n",
       "  'x': 3714},\n",
       " {'importance': 0.9987030972631691,\n",
       "  'label': 'three thousand, two hundred and eighty-four',\n",
       "  'x': 3284},\n",
       " {'importance': 0.9986777322008005,\n",
       "  'label': 'eight thousand and sixty-two',\n",
       "  'x': 8062},\n",
       " {'importance': 0.9985713591011184,\n",
       "  'label': 'five thousand, eight hundred and forty-seven',\n",
       "  'x': 5847},\n",
       " {'importance': 0.9985350224364018,\n",
       "  'label': 'five thousand and seventy-nine',\n",
       "  'x': 5079},\n",
       " {'importance': 0.9984209354391493,\n",
       "  'label': 'two thousand, nine hundred and eighty-five',\n",
       "  'x': 2985},\n",
       " {'importance': 0.9982182422460978,\n",
       "  'label': 'two thousand, six hundred and seventeen',\n",
       "  'x': 2617},\n",
       " {'importance': 0.9979875569910222,\n",
       "  'label': 'eight thousand, one hundred and seventy-eight',\n",
       "  'x': 8178},\n",
       " {'importance': 0.9979767395273229,\n",
       "  'label': 'four thousand, six hundred and ninety',\n",
       "  'x': 4690},\n",
       " {'importance': 0.9979377713033918,\n",
       "  'label': 'six thousand, seven hundred and sixty-two',\n",
       "  'x': 6762}]"
      ]
     },
     "execution_count": 13,
     "metadata": {},
     "output_type": "execute_result"
    }
   ],
   "source": [
    "server.tiles(ts.uuid, 1, 0)"
   ]
  },
  {
   "cell_type": "code",
   "execution_count": 14,
   "metadata": {},
   "outputs": [
    {
     "data": {
      "text/plain": [
       "'{\"editable\": true, \"views\": [{\"uid\": \"HS0UNWB7SDOesQb5e8jpEw\", \"tracks\": {\"top\": [{\"type\": \"top-axis\", \"options\": {}, \"height\": 50}, {\"type\": \"linear-labels\", \"options\": {}, \"tilesetUid\": \"a\", \"height\": 200, \"server\": \"http://localhost:58720/api/v1\"}], \"center\": [], \"left\": [], \"right\": [], \"bottom\": []}, \"layout\": {\"w\": 12, \"h\": 6, \"x\": 0, \"y\": 0}}], \"trackSourceServers\": [\"http://higlass.io/api/v1\"], \"locationLocks\": {\"locksByViewUid\": {}, \"locksDict\": {}}, \"zoomLocks\": {\"locksByViewUid\": {}, \"locksDict\": {}}, \"exportViewUrl\": \"http://higlass.io/api/v1/viewconfs\"}'"
      ]
     },
     "execution_count": 14,
     "metadata": {},
     "output_type": "execute_result"
    }
   ],
   "source": [
    "import higlass.client as hgc\n",
    "\n",
    "tr1 = hgc.Track('top-axis', height=50)\n",
    "tr = hgc.Track('linear-labels', tileset=ts, \n",
    "               height=200, position='top',\n",
    "              api_url=server.api_address)\n",
    "vc = hgc.ViewConf([hgc.View([tr1, tr])])\n",
    "\n",
    "import json\n",
    "json.dumps(vc.to_dict())"
   ]
  },
  {
   "cell_type": "code",
   "execution_count": null,
   "metadata": {},
   "outputs": [],
   "source": []
  }
 ],
 "metadata": {
  "kernelspec": {
   "display_name": "Python 3",
   "language": "python",
   "name": "python3"
  },
  "language_info": {
   "codemirror_mode": {
    "name": "ipython",
    "version": 3
   },
   "file_extension": ".py",
   "mimetype": "text/x-python",
   "name": "python",
   "nbconvert_exporter": "python",
   "pygments_lexer": "ipython3",
   "version": "3.6.2"
  }
 },
 "nbformat": 4,
 "nbformat_minor": 2
}
