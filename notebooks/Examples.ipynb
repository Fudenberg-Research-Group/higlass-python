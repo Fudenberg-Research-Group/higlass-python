{
 "cells": [
  {
   "cell_type": "code",
   "execution_count": 87,
   "metadata": {},
   "outputs": [
    {
     "name": "stdout",
     "output_type": "stream",
     "text": [
      "The autoreload extension is already loaded. To reload it, use:\n",
      "  %reload_ext autoreload\n"
     ]
    }
   ],
   "source": [
    "%load_ext autoreload\n",
    "%autoreload 2\n",
    "%matplotlib inline"
   ]
  },
  {
   "cell_type": "code",
   "execution_count": 88,
   "metadata": {},
   "outputs": [
    {
     "name": "stdout",
     "output_type": "stream",
     "text": [
      "terminating: RvylY4F9SAm_r-0T-KMYdA\n",
      "self.tilesets: []\n",
      " * Serving Flask app \"higlass.server\" (lazy loading)\n",
      " * Environment: production\n",
      "   WARNING: Do not use the development server in a production environment.\n",
      "   Use a production WSGI server instead.\n",
      " * Debug mode: on\n",
      "TILESETS: []\n",
      "cids_starts_ends [(0, 0, 249250621), (1, 0, 243199373), (2, 0, 198022430), (3, 0, 191154276), (4, 0, 180915260), (5, 0, 171115067), (6, 0, 159138663), (7, 0, 146364022), (8, 0, 141213431), (9, 0, 135534747), (10, 0, 135006516), (11, 0, 133851895), (12, 0, 115169878), (13, 0, 107349540), (14, 0, 102531392), (15, 0, 90354753), (16, 0, 81195210), (17, 0, 78077248), (18, 0, 59128983), (19, 0, 63025520), (20, 0, 48129895), (21, 0, 51304566), (22, 0, 155270560), (23, 0, 59373566), (24, 0, 16571), (25, 0, 1199273313)]\n",
      "TILESETS: []\n",
      "cids_starts_ends [(0, 0, 249250621), (1, 0, 243199373), (2, 0, 198022430), (3, 0, 191154276), (4, 0, 180915260), (5, 0, 171115067), (6, 0, 159138663), (7, 0, 146364022), (8, 0, 141213431), (9, 0, 135534747), (10, 0, 135006516), (11, 0, 133851895), (12, 0, 115169878), (13, 0, 107349540), (14, 0, 102531392), (15, 0, 90354753), (16, 0, 81195210), (17, 0, 78077248), (18, 0, 59128983), (19, 0, 63025520), (20, 0, 48129895), (21, 0, 51304566), (22, 0, 155270560), (23, 0, 59373566), (24, 0, 16571), (25, 0, 1199273313)]\n",
      "cids_starts_ends [(0, 0, 1024)]\n",
      "TILESETS: []\n",
      "cids_starts_ends [(5, 11199864, 171115067), (6, 0, 108520253)]\n",
      "cids_starts_ends [(4, 57897396, 125006260)]\n",
      "cids_starts_ends [(0, 0, 249250621), (1, 0, 243199373), (2, 0, 198022430), (3, 0, 191154276), (4, 0, 180915260), (5, 0, 171115067), (6, 0, 159138663), (7, 0, 146364022), (8, 0, 141213431), (9, 0, 135534747), (10, 0, 135006516), (11, 0, 133851895), (12, 0, 62717347)]\n",
      "cids_starts_ends [(4, 57897396, 180915260), (5, 0, 11199864)]\n",
      "cids_starts_ends [(4, 125006260, 180915260), (5, 0, 11199864)]\n",
      "cids_starts_ends [(5, 11199864, 171115067), (6, 0, 159138663), (7, 0, 146364022), (8, 0, 141213431), (9, 0, 135534747), (10, 0, 135006516), (11, 0, 133851895), (12, 0, 62717347)]\n",
      "cids_starts_ends [(0, 0, 249250621), (1, 0, 243199373), (2, 0, 198022430), (3, 0, 191154276), (4, 0, 180915260), (5, 0, 11199864)]\n",
      "cids_starts_ends [(3, 114833944, 191154276), (4, 0, 180915260), (5, 0, 11199864)]\n",
      "cids_starts_ends [(2, 44420918, 198022430), (3, 0, 191154276), (4, 0, 180915260), (5, 0, 11199864)]\n",
      "cids_starts_ends [(5, 11199864, 171115067), (6, 0, 159138663), (7, 0, 146364022), (8, 0, 71453024)]\n",
      "TILESETS: []\n",
      "TILESETS: []\n",
      "cids_starts_ends [(4, 125006260, 158560692)]\n",
      "cids_starts_ends [(4, 125006260, 133394868)]\n",
      "cids_starts_ends [(4, 91451828, 125006260)]\n",
      "cids_starts_ends [(4, 125006260, 141783476)]\n",
      "cids_starts_ends [(4, 133394868, 141783476)]\n",
      "TILESETS: []\n",
      "cids_starts_ends [(4, 125006260, 141783476)]\n",
      "cids_starts_ends [(4, 125006260, 158560692)]\n",
      "TILESETS: []\n",
      "cids_starts_ends [(4, 125006260, 133394868)]\n",
      "cids_starts_ends [(4, 131297716, 132346292)]\n"
     ]
    },
    {
     "name": "stderr",
     "output_type": "stream",
     "text": [
      "Traceback (most recent call last):\n",
      "  File \"/Users/pete/miniconda3/envs/cenv4/lib/python3.6/site-packages/flask/app.py\", line 2309, in __call__\n",
      "    return self.wsgi_app(environ, start_response)\n",
      "  File \"/Users/pete/miniconda3/envs/cenv4/lib/python3.6/site-packages/flask/app.py\", line 2295, in wsgi_app\n",
      "    response = self.handle_exception(e)\n",
      "  File \"/Users/pete/miniconda3/envs/cenv4/lib/python3.6/site-packages/flask_cors/extension.py\", line 161, in wrapped_function\n",
      "    return cors_after_request(app.make_response(f(*args, **kwargs)))\n",
      "  File \"/Users/pete/miniconda3/envs/cenv4/lib/python3.6/site-packages/flask/app.py\", line 1741, in handle_exception\n",
      "    reraise(exc_type, exc_value, tb)\n",
      "  File \"/Users/pete/miniconda3/envs/cenv4/lib/python3.6/site-packages/flask/_compat.py\", line 35, in reraise\n",
      "    raise value\n",
      "  File \"/Users/pete/miniconda3/envs/cenv4/lib/python3.6/site-packages/flask/app.py\", line 2292, in wsgi_app\n",
      "    response = self.full_dispatch_request()\n",
      "  File \"/Users/pete/miniconda3/envs/cenv4/lib/python3.6/site-packages/flask/app.py\", line 1815, in full_dispatch_request\n",
      "    rv = self.handle_user_exception(e)\n",
      "  File \"/Users/pete/miniconda3/envs/cenv4/lib/python3.6/site-packages/flask_cors/extension.py\", line 161, in wrapped_function\n",
      "    return cors_after_request(app.make_response(f(*args, **kwargs)))\n",
      "  File \"/Users/pete/miniconda3/envs/cenv4/lib/python3.6/site-packages/flask/app.py\", line 1718, in handle_user_exception\n",
      "    reraise(exc_type, exc_value, tb)\n",
      "  File \"/Users/pete/miniconda3/envs/cenv4/lib/python3.6/site-packages/flask/_compat.py\", line 35, in reraise\n",
      "    raise value\n",
      "  File \"/Users/pete/miniconda3/envs/cenv4/lib/python3.6/site-packages/flask/app.py\", line 1813, in full_dispatch_request\n",
      "    rv = self.dispatch_request()\n",
      "  File \"/Users/pete/miniconda3/envs/cenv4/lib/python3.6/site-packages/flask/app.py\", line 1799, in dispatch_request\n",
      "    return self.view_functions[rule.endpoint](**req.view_args)\n",
      "  File \"/Users/pete/projects/higlass-python/higlass/server.py\", line 184, in tiles\n",
      "    tiles.extend(ts.tiles(tids))\n",
      "  File \"/Users/pete/projects/higlass-python/higlass/tilesets.py\", line 43, in tiles\n",
      "    return self.tiles_fn(tile_ids)\n",
      "  File \"/Users/pete/projects/higlass-python/higlass/tilesets.py\", line 60, in <lambda>\n",
      "    tiles=lambda tids: hgbi.tiles(filepath, tids, chromsizes=chromsizes),\n",
      "  File \"/Users/pete/projects/clodius/clodius/tiles/bigwig.py\", line 248, in tiles\n",
      "    dense = get_bigwig_tile(bwpath, zoom_level, start_pos, end_pos, chromsizes_to_use)\n",
      "  File \"/Users/pete/projects/clodius/clodius/tiles/bigwig.py\", line 176, in get_bigwig_tile\n",
      "    pool = mp.Pool(MAX_THREADS)\n",
      "  File \"/Users/pete/miniconda3/envs/cenv4/lib/python3.6/multiprocessing/context.py\", line 119, in Pool\n",
      "    context=self.get_context())\n",
      "  File \"/Users/pete/miniconda3/envs/cenv4/lib/python3.6/multiprocessing/pool.py\", line 174, in __init__\n",
      "    self._repopulate_pool()\n",
      "  File \"/Users/pete/miniconda3/envs/cenv4/lib/python3.6/multiprocessing/pool.py\", line 239, in _repopulate_pool\n",
      "    w.start()\n",
      "  File \"/Users/pete/miniconda3/envs/cenv4/lib/python3.6/multiprocessing/process.py\", line 105, in start\n",
      "    self._popen = self._Popen(self)\n",
      "  File \"/Users/pete/miniconda3/envs/cenv4/lib/python3.6/multiprocessing/context.py\", line 277, in _Popen\n",
      "    return Popen(process_obj)\n",
      "  File \"/Users/pete/miniconda3/envs/cenv4/lib/python3.6/multiprocessing/popen_fork.py\", line 20, in __init__\n",
      "    self._launch(process_obj)\n",
      "  File \"/Users/pete/miniconda3/envs/cenv4/lib/python3.6/multiprocessing/popen_fork.py\", line 67, in _launch\n",
      "    self.pid = os.fork()\n",
      "BlockingIOError: [Errno 35] Resource temporarily unavailable\n"
     ]
    }
   ],
   "source": [
    "import higlass.server as hgse\n",
    "\n",
    "server = hgse.Server([])\n",
    "server.start()"
   ]
  },
  {
   "cell_type": "code",
   "execution_count": 89,
   "metadata": {},
   "outputs": [
    {
     "name": "stdout",
     "output_type": "stream",
     "text": [
      "url: http://localhost:52784/api/v1/register_url/\n",
      "req b'{\\n  \"ZGA_3dPlRtmqmEUlKw5yDg.0.0\": {\\n    \"dense\": \"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\", \\n    \"dtype\": \"float32\", \\n    \"max_value\": 9.119079544037932, \\n    \"min_value\": 0.0\\n  }\\n}\\n'\n",
      "CPU times: user 12.4 ms, sys: 6.54 ms, total: 19 ms\n",
      "Wall time: 1.71 s\n"
     ]
    }
   ],
   "source": [
    "%%time\n",
    "\n",
    "import requests\n",
    "import json\n",
    "\n",
    "url = 'http://localhost:{}/api/v1/register_url/'.format(server.port)\n",
    "print('url:', url)\n",
    "ret = requests.post(url,\n",
    "             json={\n",
    "                 'fileUrl': 'http://hgdownload.cse.ucsc.edu/goldenpath/hg19/encodeDCC/wgEncodeSydhTfbs/wgEncodeSydhTfbsGm12878InputStdSig.bigWig',\n",
    "                 'filetype': \"bigwig\"\n",
    "             })\n",
    "uid = json.loads(ret.content)['uid']\n",
    "url = 'http://localhost:{}/api/v1/tiles/?d={}.0.0'.format(server.port, uid)\n",
    "req = requests.get(url)\n",
    "print('req', req.content)\n",
    "\n",
    "\"\"\"\n",
    "url = 'http://localhost:{}/api/v1/tileset_info/?d={}'.format(server.port, uid)\n",
    "print('url:', url);\n",
    "req = requests.get(url)\n",
    "print('req', req.content)\n",
    "\"\"\""
   ]
  },
  {
   "cell_type": "code",
   "execution_count": 90,
   "metadata": {},
   "outputs": [
    {
     "data": {
      "text/plain": [
       "'{\"editable\": true, \"views\": [{\"uid\": \"T7aKxxjPSPa42lpwW1nBXw\", \"tracks\": {\"top\": [{\"type\": \"horizontal-bar\", \"options\": {}, \"server\": \"http://localhost:52784/api/v1\", \"fileUrl\": \"http://hgdownload.cse.ucsc.edu/goldenpath/hg19/encodeDCC/wgEncodeSydhTfbs/wgEncodeSydhTfbsGm12878InputStdSig.bigWig\", \"filetype\": \"bigwig\"}], \"center\": [], \"left\": [], \"right\": [], \"bottom\": []}, \"layout\": {\"w\": 12, \"h\": 6, \"x\": 0, \"y\": 0}}], \"trackSourceServers\": [\"http://higlass.io/api/v1\"], \"locationLocks\": {\"locksByViewUid\": {}, \"locksDict\": {}}, \"zoomLocks\": {\"locksByViewUid\": {}, \"locksDict\": {}}, \"exportViewUrl\": \"http://higlass.io/api/v1/viewconfs\"}'"
      ]
     },
     "execution_count": 90,
     "metadata": {},
     "output_type": "execute_result"
    }
   ],
   "source": [
    "import higlass.client as hgc\n",
    "import higlass.tilesets as hfti\n",
    "\n",
    "ts1 = hfti.bigwig('http://hgdownload.cse.ucsc.edu/goldenpath/hg19/encodeDCC/wgEncodeSydhTfbs/wgEncodeSydhTfbsGm12878InputStdSig.bigWig')\n",
    "\n",
    "tr1 = hgc.Track('horizontal-bar', \n",
    "                server=server.api_address,\n",
    "                filetype='bigwig',\n",
    "                file_url='http://hgdownload.cse.ucsc.edu/goldenpath/hg19/encodeDCC/wgEncodeSydhTfbs/wgEncodeSydhTfbsGm12878InputStdSig.bigWig')\n",
    "view1 = hgc.View([tr1])\n",
    "vc = hgc.ViewConf([view1])\n",
    "\n",
    "import json\n",
    "json.dumps(vc.to_json())"
   ]
  },
  {
   "cell_type": "code",
   "execution_count": 52,
   "metadata": {
    "collapsed": true
   },
   "outputs": [],
   "source": [
    "import higlass\n",
    "import higlass.client as hgc\n",
    "import higlass.tilesets as hti\n",
    "\n",
    "ts1 = hti.cooler('../data/Dixon2012-J1-NcoI-R1-filtered.100kb.multires.cool')\n",
    "\n",
    "tr1 = hgc.Track('top-axis')\n",
    "tr2 = hgc.Track('heatmap', tileset=ts1, height=100)\n",
    "#higlass.display([hgc.View([tr1, tr2])])()"
   ]
  },
  {
   "cell_type": "code",
   "execution_count": null,
   "metadata": {
    "collapsed": true
   },
   "outputs": [],
   "source": [
    "import higlass.tilesets as hfti\n",
    "\n",
    "ts = hfti.mmatrix('../data/int_matrices.hdf5')\n",
    "\n",
    "tr1 = hgc.Track('top-axis')\n",
    "tr2 = hgc.Track('heatmap', tileset=ts, height=200)\n",
    "\n",
    "(server, display) = higlass.display([hgc.View([tr1, tr2])])\n",
    "\n",
    "display"
   ]
  },
  {
   "cell_type": "code",
   "execution_count": null,
   "metadata": {
    "collapsed": true
   },
   "outputs": [],
   "source": [
    "height=200\n",
    "\n",
    "tr0 = hgc.Track('top-axis')\n",
    "tr1 = hgc.Track('osm-tiles', height=height)\n",
    "\n",
    "view1 = hgc.View([tr0, tr1], width=6)\n",
    "ts = hfti.mmatrix('../data/int_matrices.hdf5')\n",
    "\n",
    "tr1 = hgc.Track('top-axis')\n",
    "tr2 = hgc.Track('heatmap', tileset=ts, height=height)\n",
    "view2 = hgc.View([tr1, tr2], x=6, y=0, width=6)\n",
    "\n",
    "(server, display) = higlass.display([view1, view2], \n",
    "                                    location_sync=[view1, view2],\n",
    "                                    zoom_sync = [view1, view2])\n",
    "display"
   ]
  },
  {
   "cell_type": "code",
   "execution_count": null,
   "metadata": {
    "collapsed": true
   },
   "outputs": [],
   "source": [
    "height=200\n",
    "\n",
    "tr0 = hgc.Track('top-axis')\n",
    "tr1 = hgc.Track('heatmap', tileset=ts, height=height)\n",
    "\n",
    "view1 = hgc.View([tr0, tr1], width=6)\n",
    "ts = hfti.mmatrix('../data/int_matrices.hdf5')\n",
    "\n",
    "tr1 = hgc.Track('top-axis')\n",
    "tr2 = hgc.Track('heatmap', tileset=ts, height=height)\n",
    "view2 = hgc.View([tr1, tr2], x=6, y=0, width=6)\n",
    "\n",
    "(server, display) = higlass.display([view1, view2], \n",
    "                                    zoom_sync = [view1, view2])\n",
    "display"
   ]
  },
  {
   "cell_type": "code",
   "execution_count": null,
   "metadata": {
    "collapsed": true
   },
   "outputs": [],
   "source": [
    "ts1 = hfti.bigwig('http://hgdownload.cse.ucsc.edu/goldenpath/hg19/encodeDCC/wgEncodeSydhTfbs/wgEncodeSydhTfbsGm12878InputStdSig.bigWig')\n",
    "\n",
    "tr1 = hgc.Track('horizontal-bar', tileset=ts1)\n",
    "view1 = hgc.View([tr1])\n",
    "(server, display) = higlass.display([view1])\n",
    "\n",
    "display"
   ]
  },
  {
   "cell_type": "code",
   "execution_count": null,
   "metadata": {
    "collapsed": true
   },
   "outputs": [],
   "source": []
  },
  {
   "cell_type": "code",
   "execution_count": null,
   "metadata": {
    "collapsed": true
   },
   "outputs": [],
   "source": [
    "%%time \n",
    "\n",
    "x = server.tiles(ts1.uuid, 0, 0, 0)"
   ]
  },
  {
   "cell_type": "code",
   "execution_count": null,
   "metadata": {
    "collapsed": true
   },
   "outputs": [],
   "source": [
    "%%time\n",
    "\n",
    "import bbi\n",
    "\n",
    "a = [bbi.fetch('http://hgdownload.cse.ucsc.edu/goldenpath/hg19/encodeDCC/wgEncodeSydhTfbs/wgEncodeSydhTfbsGm12878InputStdSig.bigWig',\n",
    "         c, 1, 100000000, 100) \n",
    "     for c in ['chr1', 'chr2', 'chr3', 'chr4', 'chr5', 'chr6']]"
   ]
  },
  {
   "cell_type": "code",
   "execution_count": null,
   "metadata": {
    "collapsed": true
   },
   "outputs": [],
   "source": [
    "%%time\n",
    "from multiprocessing import Pool\n",
    "\n",
    "p = Pool(16)\n",
    "\n",
    "def fun(x):\n",
    "    import bbi\n",
    "    \n",
    "    return bbi.fetch('http://hgdownload.cse.ucsc.edu/goldenpath/hg19/encodeDCC/wgEncodeSydhTfbs/wgEncodeSydhTfbsGm12878InputStdSig.bigWig',\n",
    "         x, 1, 50000000, 100) \n",
    "\n",
    "\n",
    "chroms = ['chr{}'.format(i) for i in range(1, 16)]\n",
    "x = p.map(fun, chroms)"
   ]
  },
  {
   "cell_type": "code",
   "execution_count": null,
   "metadata": {
    "collapsed": true
   },
   "outputs": [],
   "source": [
    "%%time \n",
    "\n",
    "for chrom in chroms:\n",
    "    bbi.fetch('http://hgdownload.cse.ucsc.edu/goldenpath/hg19/encodeDCC/wgEncodeSydhTfbs/wgEncodeSydhTfbsGm12878InputStdSig.bigWig',\n",
    "         chrom, 1, 100000000, 100)"
   ]
  },
  {
   "cell_type": "code",
   "execution_count": null,
   "metadata": {
    "collapsed": true
   },
   "outputs": [],
   "source": []
  },
  {
   "cell_type": "code",
   "execution_count": null,
   "metadata": {
    "collapsed": true
   },
   "outputs": [],
   "source": []
  },
  {
   "cell_type": "code",
   "execution_count": null,
   "metadata": {
    "collapsed": true
   },
   "outputs": [],
   "source": []
  },
  {
   "cell_type": "code",
   "execution_count": 124,
   "metadata": {},
   "outputs": [
    {
     "name": "stdout",
     "output_type": "stream",
     "text": [
      "32\n"
     ]
    }
   ],
   "source": [
    "import hashlib as hl\n",
    "m=hl.sha256()\n",
    "m.update('hi'.encode('utf8'))\n",
    "print(len(m.digest()))"
   ]
  },
  {
   "cell_type": "code",
   "execution_count": null,
   "metadata": {
    "collapsed": true
   },
   "outputs": [],
   "source": []
  }
 ],
 "metadata": {
  "kernelspec": {
   "display_name": "Python 3",
   "language": "python",
   "name": "python3"
  },
  "language_info": {
   "codemirror_mode": {
    "name": "ipython",
    "version": 3
   },
   "file_extension": ".py",
   "mimetype": "text/x-python",
   "name": "python",
   "nbconvert_exporter": "python",
   "pygments_lexer": "ipython3",
   "version": "3.6.2"
  }
 },
 "nbformat": 4,
 "nbformat_minor": 2
}
