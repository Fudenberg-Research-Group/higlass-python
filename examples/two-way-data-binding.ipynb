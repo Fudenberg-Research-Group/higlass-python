{
 "cells": [
  {
   "cell_type": "markdown",
   "metadata": {},
   "source": [
    "# Two-way data bindings\n",
    "\n",
    "This example shows how to dynamically get, set, and observe changes to HiGlass properties"
   ]
  },
  {
   "cell_type": "code",
   "execution_count": 1,
   "metadata": {},
   "outputs": [],
   "source": [
    "import higlass as hg\n",
    "import ipywidgets as widgets\n",
    "from IPython.display import display"
   ]
  },
  {
   "cell_type": "markdown",
   "metadata": {},
   "source": [
    "Let's use a simple 1D view for demonstration purposes"
   ]
  },
  {
   "cell_type": "code",
   "execution_count": 2,
   "metadata": {},
   "outputs": [],
   "source": [
    "viewconf = hg.ViewConf.from_link('http://higlass.io/app/?config=browserlike')\n",
    "widget = hg.viewer.HiGlassDisplay(viewconf=viewconf.to_dict())"
   ]
  },
  {
   "cell_type": "markdown",
   "metadata": {},
   "source": [
    "In the following we're going to create 4 widgets for displaying the current location and selection of the HiGlass view. We're also going to synchronize a button with the select mode to have a simple UI for switching between panning&zooming and brush selections."
   ]
  },
  {
   "cell_type": "code",
   "execution_count": 26,
   "metadata": {},
   "outputs": [],
   "source": [
    "loc_from = widgets.IntText(value=None, description='Loc. From:', disabled=True)\n",
    "loc_to = widgets.IntText(value=None, description='Loc. To:', disabled=True)\n",
    "\n",
    "def handle_location_change(location):\n",
    "    loc_from.value = location.new[0]\n",
    "    loc_to.value = location.new[1]\n",
    "    \n",
    "widget.observe(handle_location_change, names=['location'])\n",
    "\n",
    "\n",
    "sel_from = widgets.IntText(value=None, description='Sel. From:', disabled=True)\n",
    "sel_to = widgets.IntText(value=None, description='Sel. To:', disabled=True)\n",
    "\n",
    "def handle_selection_change(selection):\n",
    "    sel_from.value = selection.new[0]\n",
    "    sel_to.value = selection.new[1]\n",
    "    \n",
    "widget.observe(handle_selection_change, names=['selection'])\n",
    "\n",
    "\n",
    "select_mode = widgets.ToggleButton(value=False, description='Select Mode')\n",
    "widgets.jslink((widget, 'select_mode'), (select_mode, 'value'))"
   ]
  },
  {
   "cell_type": "code",
   "execution_count": 27,
   "metadata": {},
   "outputs": [
    {
     "data": {
      "application/vnd.jupyter.widget-view+json": {
       "model_id": "b294b10af8324758bccf4606762f5198",
       "version_major": 2,
       "version_minor": 0
      },
      "text/plain": [
       "IntText(value=0, description='Loc. From:', disabled=True)"
      ]
     },
     "metadata": {},
     "output_type": "display_data"
    },
    {
     "data": {
      "application/vnd.jupyter.widget-view+json": {
       "model_id": "c4e3d0aac0f54a33a543154a988016b8",
       "version_major": 2,
       "version_minor": 0
      },
      "text/plain": [
       "IntText(value=0, description='Loc. To:', disabled=True)"
      ]
     },
     "metadata": {},
     "output_type": "display_data"
    },
    {
     "data": {
      "application/vnd.jupyter.widget-view+json": {
       "model_id": "e0854b4e96d84f44b4f43c5ddb3b3588",
       "version_major": 2,
       "version_minor": 0
      },
      "text/plain": [
       "HiGlassDisplay(cursor_location=[-1, -1], location=[1176731697.3186889, 1839152376.0001354, -11266733844.686125…"
      ]
     },
     "metadata": {},
     "output_type": "display_data"
    },
    {
     "data": {
      "application/vnd.jupyter.widget-view+json": {
       "model_id": "28a5c126e62745c0842ff0a922356a2e",
       "version_major": 2,
       "version_minor": 0
      },
      "text/plain": [
       "IntText(value=0, description='Sel. From:', disabled=True)"
      ]
     },
     "metadata": {},
     "output_type": "display_data"
    },
    {
     "data": {
      "application/vnd.jupyter.widget-view+json": {
       "model_id": "3429246b1af041458e4fd2d4af83dfb9",
       "version_major": 2,
       "version_minor": 0
      },
      "text/plain": [
       "IntText(value=0, description='Sel. To:', disabled=True)"
      ]
     },
     "metadata": {},
     "output_type": "display_data"
    },
    {
     "data": {
      "application/vnd.jupyter.widget-view+json": {
       "model_id": "ad042bf4ca794d3a8abc1b70c2613266",
       "version_major": 2,
       "version_minor": 0
      },
      "text/plain": [
       "ToggleButton(value=False, description='Select Mode')"
      ]
     },
     "metadata": {},
     "output_type": "display_data"
    }
   ],
   "source": [
    "display(loc_from, loc_to, widget, sel_from, sel_to, select_mode)"
   ]
  },
  {
   "cell_type": "markdown",
   "metadata": {},
   "source": [
    "You can also read out the values directly of course. The location data is a quadruple of form:\n",
    "\n",
    "`[x_from, x_to, y_from, y_to]`"
   ]
  },
  {
   "cell_type": "code",
   "execution_count": 18,
   "metadata": {},
   "outputs": [
    {
     "data": {
      "text/plain": [
       "[-454527.7865540268, 30926298.152484585, 1743610278.372811, 1744169881.5788567]"
      ]
     },
     "execution_count": 18,
     "metadata": {},
     "output_type": "execute_result"
    }
   ],
   "source": [
    "widget.location"
   ]
  },
  {
   "cell_type": "markdown",
   "metadata": {},
   "source": [
    "Except for `location`, `cursor_location`, and `selection`, which are _read only_, you can also set properties and the related HiGlass widget will update. E.g., let's turn on brush selection when the _ALT_ key is pressed."
   ]
  },
  {
   "cell_type": "code",
   "execution_count": 23,
   "metadata": {},
   "outputs": [
    {
     "name": "stdout",
     "output_type": "stream",
     "text": [
      "old selection_on_alt False\n",
      "new selection_on_alt True\n",
      "old selection_on_alt False\n",
      "new selection_on_alt True\n",
      "old selection_on_alt False\n",
      "new selection_on_alt True\n",
      "old selection_on_alt False\n",
      "new selection_on_alt True\n"
     ]
    }
   ],
   "source": [
    "widget.selection_on_alt = True"
   ]
  },
  {
   "cell_type": "markdown",
   "metadata": {},
   "source": [
    "Now, scroll back up, press the _ALT_ key, and brush on the track. You should see how the selection gets updated."
   ]
  },
  {
   "cell_type": "code",
   "execution_count": null,
   "metadata": {},
   "outputs": [],
   "source": []
  }
 ],
 "metadata": {
  "kernelspec": {
   "display_name": "Python 3",
   "language": "python",
   "name": "python3"
  },
  "language_info": {
   "codemirror_mode": {
    "name": "ipython",
    "version": 3
   },
   "file_extension": ".py",
   "mimetype": "text/x-python",
   "name": "python",
   "nbconvert_exporter": "python",
   "pygments_lexer": "ipython3",
   "version": "3.7.3"
  }
 },
 "nbformat": 4,
 "nbformat_minor": 4
}
